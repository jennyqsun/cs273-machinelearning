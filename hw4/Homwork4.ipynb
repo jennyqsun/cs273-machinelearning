{
 "cells": [
  {
   "cell_type": "markdown",
   "metadata": {},
   "source": [
    "# *Homework 4*\n",
    "# Problem 1: Setting up the data and Linear Classifier\n"
   ]
  },
  {
   "cell_type": "code",
   "execution_count": 2,
   "metadata": {},
   "outputs": [
    {
     "data": {
      "text/plain": [
       "(200000, 14)"
      ]
     },
     "execution_count": 2,
     "metadata": {},
     "output_type": "execute_result"
    }
   ],
   "source": [
    "import numpy as np\n",
    "import matplotlib.pyplot as plt\n",
    "import mltools as ml\n",
    "\n",
    "np.random.seed(1015)\n",
    "\n",
    "# Data Loading, split the data into traina nd validation data\n",
    "X = np.genfromtxt('data/X_train.txt', delimiter=None)\n",
    "Y = np.genfromtxt('data/Y_train.txt')\n",
    "X,Y = ml.shuffleData(X,Y)\n",
    "X.shape"
   ]
  },
  {
   "cell_type": "markdown",
   "metadata": {},
   "source": [
    "## Question 1 "
   ]
  },
  {
   "cell_type": "code",
   "execution_count": 10,
   "metadata": {},
   "outputs": [
    {
     "name": "stdout",
     "output_type": "stream",
     "text": [
      "minimum: [ 1.9350e+02  1.5250e+02  2.1425e+02  1.5250e+02  1.0000e+01  0.0000e+00\n",
      "  0.0000e+00  0.0000e+00  8.7589e-01  0.0000e+00  0.0000e+00  0.0000e+00\n",
      "  9.9049e-01 -9.9990e+02]\n",
      "maximum: [2.5300e+02 2.4900e+02 2.5250e+02 2.5250e+02 3.1048e+04 1.3630e+04\n",
      " 9.2380e+03 1.2517e+02 1.9167e+01 1.3230e+01 6.6761e+01 7.3902e+01\n",
      " 9.7504e+02 7.9720e+02]\n",
      "mean: [2.41601104e+02 2.27376571e+02 2.41554150e+02 2.32826768e+02\n",
      " 3.08992337e+03 9.28259020e+02 1.38093830e+02 3.24857933e+00\n",
      " 6.49865290e+00 2.09713912e+00 4.21766041e+00 2.69171845e+00\n",
      " 1.02715905e+01 5.78148050e+00]\n",
      "variance: [8.34991711e+01 9.26255931e+01 3.52863398e+01 9.76257317e+01\n",
      " 1.56515138e+07 3.08176182e+06 4.43951746e+05 8.21948502e+00\n",
      " 6.40504819e+00 4.36344047e+00 4.08637188e+00 2.19877847e+00\n",
      " 4.04646245e+02 3.40652055e+03]\n"
     ]
    }
   ],
   "source": [
    "print('minimum:', np.min(X,axis=0))\n",
    "print('maximum:', np.max(X,axis=0))\n",
    "print('mean:', np.mean(X,axis=0))\n",
    "print('variance:', np.var(X,axis=0))"
   ]
  },
  {
   "cell_type": "markdown",
   "metadata": {},
   "source": [
    "## Question 2\n",
    "\n"
   ]
  },
  {
   "cell_type": "code",
   "execution_count": 5,
   "metadata": {},
   "outputs": [
    {
     "name": "stdout",
     "output_type": "stream",
     "text": [
      "(5000, 14)\n",
      "(1250, 14)\n"
     ]
    }
   ],
   "source": [
    "Xtr, Xva, Ytr, Yva = ml.splitData(X,Y)\n",
    "Xt,Yt = Xtr[:5000], Ytr[:5000]# subsample for efficiency \n",
    "Xv, Yv =  Xva[:1250], Yva[:1250]\n",
    "XtS, params = ml.rescale(Xt)\n",
    "XvS, _  = ml.rescale(Xv, params)\n",
    "\n",
    "print(XtS.shape)\n",
    "print(XvS.shape)\n",
    "\n",
    "# print(XvS)"
   ]
  },
  {
   "cell_type": "code",
   "execution_count": 12,
   "metadata": {},
   "outputs": [
    {
     "name": "stdout",
     "output_type": "stream",
     "text": [
      "minimum: [ -4.96595653  -3.72381682  -4.37149489  -2.66102087  -0.7523898\n",
      "  -0.52427348  -0.20823371  -1.1534788   -2.14016639  -1.00225435\n",
      "  -2.13223957  -1.84246917  -0.58771662 -19.46323418]\n",
      "maximum: [ 1.25737502  1.68713468  1.79941665  1.94475467  7.06595521  7.43475247\n",
      " 15.52027188  8.16587388  4.60231585  4.38870522  7.23989082 11.55664522\n",
      " 29.72711867 12.0454918 ]\n",
      "mean: [-1.91260008e-14  1.11883836e-15  1.33668632e-14  1.61768376e-14\n",
      " -1.65201186e-17  2.47801779e-17  3.86246590e-17 -2.20548024e-15\n",
      " -9.69215819e-15  3.60556029e-15  1.20001786e-15  4.90714136e-15\n",
      "  2.71693779e-16  1.35358391e-16]\n",
      "variance: [1. 1. 1. 1. 1. 1. 1. 1. 1. 1. 1. 1. 1. 1.]\n"
     ]
    }
   ],
   "source": [
    "# normalized training set\n",
    "print('minimum:', np.min(XtS,axis=0))\n",
    "print('maximum:', np.max(XtS,axis=0))\n",
    "print('mean:', np.mean(XtS,axis=0))\n",
    "print('variance:', np.var(XtS,axis=0))"
   ]
  },
  {
   "cell_type": "code",
   "execution_count": 13,
   "metadata": {},
   "outputs": [
    {
     "name": "stdout",
     "output_type": "stream",
     "text": [
      "minimum: [ -4.41030193  -3.61874981  -4.51992434  -2.56401463  -0.75163407\n",
      "  -0.52427348  -0.20823371  -1.1534788   -1.90605765  -1.00225435\n",
      "  -2.13223957  -1.84246917  -0.58660542 -19.46323418]\n",
      "maximum: [ 1.25737502  1.73966819  1.62368984  1.84067505  6.80598189  6.92556167\n",
      " 15.52027188  9.01905654  4.47106587  4.13249457  5.47224537  3.97297645\n",
      " 12.3061722   6.20130289]\n",
      "mean: [ 0.02484598  0.00024165  0.01016418 -0.00472966 -0.00213299 -0.00973664\n",
      "  0.01492935  0.02395358 -0.02763724 -0.00209399 -0.04514137 -0.06509189\n",
      "  0.00245495 -0.03437164]\n",
      "variance: [0.96943678 1.01938694 1.05498507 1.03058252 0.90073809 0.97995914\n",
      " 1.22433279 1.14746133 1.04403273 1.00938564 0.9640239  0.82546581\n",
      " 0.80740304 1.11118891]\n"
     ]
    }
   ],
   "source": [
    "# normalized validation set\n",
    "print('minimum:', np.min(XvS,axis=0))\n",
    "print('maximum:', np.max(XvS,axis=0))\n",
    "print('mean:', np.mean(XvS,axis=0))\n",
    "print('variance:', np.var(XvS,axis=0))"
   ]
  },
  {
   "cell_type": "code",
   "execution_count": 14,
   "metadata": {},
   "outputs": [],
   "source": [
    "# learner = ml.linearC.linearClassify()\n",
    "# learner.train(XtS, Yt, reg = 0.0, initStep = 0.5, stopTol = 1e-6, stopIter = 100)\n",
    "# learner.auc(XtS, Yt)  # train AUC"
   ]
  },
  {
   "cell_type": "markdown",
   "metadata": {},
   "source": [
    "## Question 3\n"
   ]
  },
  {
   "cell_type": "code",
   "execution_count": 15,
   "metadata": {},
   "outputs": [
    {
     "name": "stdout",
     "output_type": "stream",
     "text": [
      "reg = 0.500000\n",
      "reg = 1.000000\n",
      "reg = 1.500000\n",
      "reg = 2.000000\n"
     ]
    },
    {
     "name": "stderr",
     "output_type": "stream",
     "text": [
      "/home/jenny/CS273A/hw4/mltools/base.py:97: RuntimeWarning: divide by zero encountered in log\n",
      "  return - np.mean( np.log( P[ np.arange(M), Y ] ) ) # evaluate\n"
     ]
    },
    {
     "name": "stdout",
     "output_type": "stream",
     "text": [
      "reg = 2.500000\n",
      "reg = 3.000000\n",
      "reg = 3.500000\n"
     ]
    },
    {
     "name": "stderr",
     "output_type": "stream",
     "text": [
      "/home/jenny/CS273A/hw4/mltools/linearC.py:122: RuntimeWarning: overflow encountered in exp\n",
      "  sigx  = np.exp(respi) / (1.0+np.exp(respi))\n",
      "/home/jenny/CS273A/hw4/mltools/linearC.py:122: RuntimeWarning: invalid value encountered in true_divide\n",
      "  sigx  = np.exp(respi) / (1.0+np.exp(respi))\n"
     ]
    },
    {
     "name": "stdout",
     "output_type": "stream",
     "text": [
      "reg = 4.000000\n",
      "reg = 4.500000\n",
      "reg = 5.000000\n",
      "reg = 5.500000\n",
      "reg = 6.000000\n",
      "reg = 6.500000\n",
      "reg = 7.000000\n",
      "reg = 7.500000\n",
      "reg = 8.000000\n",
      "reg = 8.500000\n",
      "reg = 9.000000\n",
      "reg = 9.500000\n",
      "[0.6158527790674229, 0.6085959245941565, 0.6050238271386121, 0.6026881145597056, 0.6010547303023367, 0.5995241389257444, 0.5980916761805395, 0.49744524709399324, 0.49744524709399324, 0.49744524709399324, 0.49744524709399324, 0.49744524709399324, 0.49744524709399324, 0.49744524709399324, 0.49744524709399324, 0.49744524709399324, 0.49744524709399324, 0.49744524709399324, 0.49744524709399324]\n",
      "[0.6153625816129766, 0.6083285839576424, 0.6048735977037629, 0.6026293331285935, 0.6010731128244955, 0.5998535322066731, 0.5988436131478468, 0.49586139894460507, 0.49586139894460507, 0.49586139894460507, 0.49586139894460507, 0.49586139894460507, 0.49586139894460507, 0.49586139894460507, 0.49586139894460507, 0.49586139894460507, 0.49586139894460507, 0.49586139894460507, 0.49586139894460507]\n"
     ]
    },
    {
     "data": {
      "text/plain": [
       "<matplotlib.legend.Legend at 0x7f9bd4f1f8e0>"
      ]
     },
     "execution_count": 15,
     "metadata": {},
     "output_type": "execute_result"
    },
    {
     "data": {
      "image/png": "[encoded data removed]",
      "text/plain": [
       "<Figure size 432x288 with 1 Axes>"
      ]
     },
     "metadata": {
      "needs_background": "light"
     },
     "output_type": "display_data"
    }
   ],
   "source": [
    "# change the reg term and plot the training and val AUC\n",
    "\n",
    "auc_tr = []\n",
    "auc_val = []\n",
    "reg = np.arange(0.5,10,0.5)\n",
    "def varyreg():\n",
    "    for r in reg:\n",
    "        learner = ml.linearC.linearClassify()\n",
    "        learner.train(XtS, Yt, reg = r, initStep = 0.5, stopTol = 1e-6, stopIter = 100)\n",
    "        auc_tr.append(learner.auc(XtS, Yt))\n",
    "        auc_val.append(learner.auc(XvS, Yv))\n",
    "        print('reg = %f'% r)\n",
    "    return auc_tr, auc_val\n",
    "    \n",
    "auc_tr, auc_val = varyreg()                   \n",
    "print(auc_tr)\n",
    "print(auc_val)\n",
    "\n",
    "# plot AUC against regularization weight\n",
    "\n",
    "plt.plot(reg, auc_tr, label = 'training AUC')\n",
    "plt.plot(reg, auc_val, label = 'validation AUC')\n",
    "plt.xlabel('regularization weight')\n",
    "plt.ylabel('AUC')\n",
    "plt.legend()\n",
    "\n"
   ]
  },
  {
   "cell_type": "code",
   "execution_count": 16,
   "metadata": {},
   "outputs": [],
   "source": [
    "%qtconsole"
   ]
  },
  {
   "cell_type": "markdown",
   "metadata": {},
   "source": [
    "## Question 4"
   ]
  },
  {
   "cell_type": "code",
   "execution_count": 17,
   "metadata": {},
   "outputs": [
    {
     "name": "stdout",
     "output_type": "stream",
     "text": [
      "(5000, 119)\n",
      "(1250, 119)\n"
     ]
    }
   ],
   "source": [
    "# add degree 2 polynomial features on training and val set\n",
    "Xtpoly = ml.transforms.fpoly(Xt, 2, bias=False)\n",
    "Xvpoly = ml.transforms.fpoly(Xv, 2, bias= False)\n",
    "\n",
    "# now sclae the degree2 training set\n",
    "XtSpoly, params = ml.rescale(Xtpoly)\n",
    "\n",
    "# now use the params to scla the val set\n",
    "XvSpoly, _ = ml.rescale(Xvpoly,params)\n",
    "\n",
    "\n",
    "\n",
    "print(XtSpoly.shape)\n",
    "print(XvSpoly.shape)"
   ]
  },
  {
   "cell_type": "markdown",
   "metadata": {},
   "source": [
    "The reasons that we have 119 features is becuase 12 have 14 original features, 14 $x_i^2$ features, and the combination of any of the 14 features $\\frac{14!}{2!\\times 12!}$ = 91. 14+14+91 = 119."
   ]
  },
  {
   "cell_type": "markdown",
   "metadata": {},
   "source": [
    "## Question 5"
   ]
  },
  {
   "cell_type": "code",
   "execution_count": 18,
   "metadata": {},
   "outputs": [
    {
     "name": "stderr",
     "output_type": "stream",
     "text": [
      "/home/jenny/CS273A/hw4/mltools/base.py:97: RuntimeWarning: divide by zero encountered in log\n",
      "  return - np.mean( np.log( P[ np.arange(M), Y ] ) ) # evaluate\n",
      "/home/jenny/CS273A/hw4/mltools/linearC.py:134: RuntimeWarning: invalid value encountered in double_scalars\n",
      "  done = (it > stopIter) or ( (it>1) and (abs(Jsur[-1]-Jsur[-2])<stopTol) )\n"
     ]
    },
    {
     "name": "stdout",
     "output_type": "stream",
     "text": [
      "reg = 0.500000\n",
      "reg = 1.000000\n",
      "reg = 1.500000\n",
      "reg = 2.000000\n",
      "reg = 2.500000\n",
      "reg = 3.000000\n",
      "reg = 3.500000\n"
     ]
    },
    {
     "name": "stderr",
     "output_type": "stream",
     "text": [
      "/home/jenny/CS273A/hw4/mltools/linearC.py:122: RuntimeWarning: overflow encountered in exp\n",
      "  sigx  = np.exp(respi) / (1.0+np.exp(respi))\n",
      "/home/jenny/CS273A/hw4/mltools/linearC.py:122: RuntimeWarning: invalid value encountered in true_divide\n",
      "  sigx  = np.exp(respi) / (1.0+np.exp(respi))\n"
     ]
    },
    {
     "name": "stdout",
     "output_type": "stream",
     "text": [
      "reg = 4.000000\n",
      "reg = 4.500000\n",
      "reg = 5.000000\n",
      "reg = 5.500000\n",
      "reg = 6.000000\n",
      "reg = 6.500000\n",
      "reg = 7.000000\n",
      "reg = 7.500000\n",
      "reg = 8.000000\n",
      "reg = 8.500000\n",
      "reg = 9.000000\n",
      "reg = 9.500000\n",
      "[0.6089452051157488, 0.6011248734373867, 0.5963913778838515, 0.592935707268838, 0.5897936177281661, 0.5868741563987403, 0.5844126884805239, 0.49744524709399324, 0.49744524709399324, 0.49744524709399324, 0.49744524709399324, 0.49744524709399324, 0.49744524709399324, 0.49744524709399324, 0.49744524709399324, 0.49744524709399324, 0.49744524709399324, 0.49744524709399324, 0.49744524709399324]\n",
      "[0.6060843193824729, 0.6013831756934335, 0.5978484589875414, 0.5949072912021875, 0.5931325503999811, 0.5914877407047582, 0.5898104482327893, 0.49586139894460507, 0.49586139894460507, 0.49586139894460507, 0.49586139894460507, 0.49586139894460507, 0.49586139894460507, 0.49586139894460507, 0.49586139894460507, 0.49586139894460507, 0.49586139894460507, 0.49586139894460507, 0.49586139894460507]\n"
     ]
    },
    {
     "data": {
      "text/plain": [
       "<matplotlib.legend.Legend at 0x7f9bc421a970>"
      ]
     },
     "execution_count": 18,
     "metadata": {},
     "output_type": "execute_result"
    },
    {
     "data": {
      "image/png": "[encoded data removed]",
      "text/plain": [
       "<Figure size 432x288 with 1 Axes>"
      ]
     },
     "metadata": {
      "needs_background": "light"
     },
     "output_type": "display_data"
    }
   ],
   "source": [
    "# reuse the code in Question3, and look at the AUC for the transformed data\n",
    "\n",
    "auc_trpoly = []\n",
    "auc_valpoly = []\n",
    "reg = np.arange(0.5,10,0.5)\n",
    "def poly():\n",
    "    for r in reg:\n",
    "        learner = ml.linearC.linearClassify()\n",
    "        learner.train(XtSpoly, Yt, reg = r, initStep = 0.5, stopTol = 1e-6, stopIter = 100)\n",
    "        auc_trpoly.append(learner.auc(XtSpoly, Yt))\n",
    "        auc_valpoly.append(learner.auc(XvSpoly, Yv))\n",
    "        print('reg = %f'% r)\n",
    "    return auc_trpoly, auc_valpoly\n",
    "\n",
    "auc_trpoly, auc_valpoly = poly()\n",
    "print(auc_trpoly)\n",
    "print(auc_valpoly)\n",
    "\n",
    "# plot AUC against regularization weight\n",
    "\n",
    "plt.plot(reg, auc_trpoly, label = 'training polynomial AUC')\n",
    "plt.plot(reg, auc_valpoly, label = 'validation polynomial AUC')\n",
    "plt.xlabel('regularization weight')\n",
    "plt.ylabel('AUC')\n",
    "plt.legend()"
   ]
  },
  {
   "cell_type": "code",
   "execution_count": null,
   "metadata": {},
   "outputs": [],
   "source": []
  },
  {
   "cell_type": "markdown",
   "metadata": {},
   "source": [
    "# Problem 2 Nearest Neighbors"
   ]
  },
  {
   "cell_type": "code",
   "execution_count": 19,
   "metadata": {},
   "outputs": [],
   "source": [
    "# learner = ml.knn.knnClassify()\n",
    "# learner.train(XtS, Yt, K=1, alpha = 0.0)\n",
    "# learner.auc(XtS, Yt) # train AUC"
   ]
  },
  {
   "cell_type": "markdown",
   "metadata": {},
   "source": [
    "## Question 1"
   ]
  },
  {
   "cell_type": "code",
   "execution_count": 47,
   "metadata": {},
   "outputs": [
    {
     "name": "stdout",
     "output_type": "stream",
     "text": [
      "k=1\n",
      "k=11\n",
      "k=21\n",
      "k=31\n",
      "k=41\n"
     ]
    }
   ],
   "source": [
    "# plot the training and validation performance for a range of K, with alpha = 0\n",
    "\n",
    "K = np.arange(1,50,10)\n",
    "knn_train=[]\n",
    "knn_val = []\n",
    "\n",
    "def varyK():\n",
    "    for i in K:\n",
    "        learner = ml.knn.knnClassify()\n",
    "        learner.train(XtS, Yt, K=i, alpha=0)\n",
    "        knn_train.append(learner.auc(XtS,Yt))\n",
    "        knn_val.append(learner.auc(XvS, Yv))\n",
    "        print('k=%d'%i)\n",
    "    return knn_train, knn_val\n",
    "\n",
    "knn_train,knn_val = varyK()"
   ]
  },
  {
   "cell_type": "code",
   "execution_count": 21,
   "metadata": {},
   "outputs": [
    {
     "data": {
      "text/plain": [
       "<matplotlib.legend.Legend at 0x7f9bc4251040>"
      ]
     },
     "execution_count": 21,
     "metadata": {},
     "output_type": "execute_result"
    },
    {
     "data": {
      "image/png": "[encoded data removed]",
      "text/plain": [
       "<Figure size 432x288 with 1 Axes>"
      ]
     },
     "metadata": {
      "needs_background": "light"
     },
     "output_type": "display_data"
    }
   ],
   "source": [
    "plt.plot(K, knn_train, label = 'training')\n",
    "plt.plot(K, knn_val, label = 'validation')\n",
    "plt.xlabel('Size of Neighborhood K')\n",
    "plt.ylabel('AUC')\n",
    "plt.legend()"
   ]
  },
  {
   "cell_type": "markdown",
   "metadata": {},
   "source": [
    "## Question 2"
   ]
  },
  {
   "cell_type": "code",
   "execution_count": 44,
   "metadata": {},
   "outputs": [
    {
     "name": "stdout",
     "output_type": "stream",
     "text": [
      "k=1\n",
      "k=11\n",
      "k=21\n",
      "k=31\n",
      "k=41\n"
     ]
    },
    {
     "data": {
      "text/plain": [
       "Text(0.5, 1.0, 'Unscaled Data')"
      ]
     },
     "execution_count": 44,
     "metadata": {},
     "output_type": "execute_result"
    },
    {
     "data": {
      "image/png": "[encoded data removed]",
      "text/plain": [
       "<Figure size 432x288 with 1 Axes>"
      ]
     },
     "metadata": {
      "needs_background": "light"
     },
     "output_type": "display_data"
    }
   ],
   "source": [
    "# same with unscaled data\n",
    "# plot the training and validation performance for a range of K, with alpha = 0\n",
    "\n",
    "K = np.arange(1,50,10)\n",
    "knn_trainO=[]\n",
    "knn_valO = []\n",
    "\n",
    "def varyK2():\n",
    "    for i in K:\n",
    "        learner = ml.knn.knnClassify()\n",
    "        learner.train(Xt, Yt, K=i, alpha=0)\n",
    "        knn_trainO.append(learner.auc(Xt,Yt))\n",
    "        knn_valO.append(learner.auc(Xv, Yv))\n",
    "        print('k=%d'%i)\n",
    "    return knn_trainO, knn_valO\n",
    "knn_trainO, knn_valO = varyK2()\n",
    "\n",
    "plt.plot(K, knn_trainO, label = 'training')\n",
    "plt.plot(K, knn_valO, label = 'validation')\n",
    "plt.xlabel('Size of Neighborhood K')\n",
    "plt.ylabel('AUC')\n",
    "plt.legend()\n",
    "plt.title('Unscaled Data')"
   ]
  },
  {
   "cell_type": "markdown",
   "metadata": {},
   "source": [
    "## Question 3"
   ]
  },
  {
   "cell_type": "code",
   "execution_count": 46,
   "metadata": {},
   "outputs": [
    {
     "name": "stdout",
     "output_type": "stream",
     "text": [
      "k=1 alpha=0\n",
      "k=1 alpha=1\n",
      "k=1 alpha=2\n",
      "k=1 alpha=3\n",
      "k=1 alpha=4\n",
      "k=2 alpha=0\n",
      "k=2 alpha=1\n",
      "k=2 alpha=2\n",
      "k=2 alpha=3\n",
      "k=2 alpha=4\n",
      "k=3 alpha=0\n",
      "k=3 alpha=1\n",
      "k=3 alpha=2\n",
      "k=3 alpha=3\n",
      "k=3 alpha=4\n",
      "k=4 alpha=0\n",
      "k=4 alpha=1\n",
      "k=4 alpha=2\n",
      "k=4 alpha=3\n",
      "k=4 alpha=4\n",
      "k=5 alpha=0\n",
      "k=5 alpha=1\n",
      "k=5 alpha=2\n",
      "k=5 alpha=3\n",
      "k=5 alpha=4\n",
      "k=6 alpha=0\n",
      "k=6 alpha=1\n",
      "k=6 alpha=2\n",
      "k=6 alpha=3\n",
      "k=6 alpha=4\n",
      "k=7 alpha=0\n",
      "k=7 alpha=1\n",
      "k=7 alpha=2\n",
      "k=7 alpha=3\n",
      "k=7 alpha=4\n",
      "k=8 alpha=0\n",
      "k=8 alpha=1\n",
      "k=8 alpha=2\n",
      "k=8 alpha=3\n",
      "k=8 alpha=4\n",
      "k=9 alpha=0\n",
      "k=9 alpha=1\n",
      "k=9 alpha=2\n",
      "k=9 alpha=3\n",
      "k=9 alpha=4\n"
     ]
    }
   ],
   "source": [
    "# plot AUC 2D varying k and alpha\n",
    "\n",
    "K = range(1,10,1)\n",
    "A = range(0,5,1)\n",
    "tr_auc = np.zeros((len(K), len(A)))\n",
    "va_auc = np.zeros((len(K), len(A)))\n",
    "\n",
    "def vary2d():\n",
    "    for i, k in enumerate(K):\n",
    "        for j, a in enumerate(A):\n",
    "            learner = ml.knn.knnClassify()\n",
    "            learner.train(XtS, Yt, K=k, alpha=a)\n",
    "            tr_auc[i][j] = learner.auc(XtS, Yt)\n",
    "            va_auc[i][j] = learner.auc(XvS, Yv)\n",
    "            print('k=%d'%k,'alpha=%d'%a)\n",
    "    return tr_auc, va_auc\n",
    "\n",
    "tr_auc, va_auc = vary2d()\n"
   ]
  },
  {
   "cell_type": "code",
   "execution_count": 65,
   "metadata": {},
   "outputs": [
    {
     "data": {
      "image/png": "[encoded data removed]",
      "text/plain": [
       "<Figure size 576x360 with 2 Axes>"
      ]
     },
     "metadata": {
      "needs_background": "light"
     },
     "output_type": "display_data"
    }
   ],
   "source": [
    "K = range(1,10,1)\n",
    "A = range(0,5,1)\n",
    "# make the plot\n",
    "f, ax = plt.subplots(1,1,figsize=(8,5))\n",
    "cax = ax.matshow(tr_auc, interpolation = 'nearest')\n",
    "f.colorbar(cax)\n",
    "ax.set_xticklabels(['']+list(A))\n",
    "ax.set_yticklabels(['']+list(K))\n",
    "ax.set_ylabel('size of neighborhood, K')\n",
    "ax.set_xlabel('how much weight for closer points A')\n",
    "plt.title('Training')\n",
    "plt.show()\n"
   ]
  },
  {
   "cell_type": "code",
   "execution_count": 67,
   "metadata": {},
   "outputs": [
    {
     "data": {
      "image/png": "[encoded data removed]",
      "text/plain": [
       "<Figure size 576x360 with 2 Axes>"
      ]
     },
     "metadata": {
      "needs_background": "light"
     },
     "output_type": "display_data"
    }
   ],
   "source": [
    "f, ax = plt.subplots(1,1,figsize=(8,5))\n",
    "cax = ax.matshow(va_auc, interpolation = 'nearest')\n",
    "f.colorbar(cax)\n",
    "ax.set_xticklabels(['']+list(A))\n",
    "ax.set_yticklabels(['']+list(K))\n",
    "ax.set_ylabel('size of neighborhood, K')\n",
    "ax.set_xlabel('how much weight for closer points A')\n",
    "plt.title('Validation')\n",
    "plt.show()\n"
   ]
  },
  {
   "cell_type": "markdown",
   "metadata": {},
   "source": [
    "I would recommand to choose when K = 9, and a =1. This way training performance is around 0.90, and validation could be around 0.64."
   ]
  },
  {
   "cell_type": "markdown",
   "metadata": {},
   "source": [
    "# Problem 3: Decision Trees"
   ]
  },
  {
   "cell_type": "markdown",
   "metadata": {},
   "source": [
    "## Question 1"
   ]
  },
  {
   "cell_type": "code",
   "execution_count": 68,
   "metadata": {},
   "outputs": [
    {
     "name": "stdout",
     "output_type": "stream",
     "text": [
      "Depth = 1\n",
      "Depth = 6\n",
      "Depth = 11\n",
      "Depth = 16\n",
      "Depth = 21\n",
      "Depth = 26\n",
      "Depth = 31\n",
      "Depth = 36\n",
      "Depth = 41\n",
      "Depth = 46\n"
     ]
    },
    {
     "data": {
      "text/plain": [
       "<matplotlib.legend.Legend at 0x7f9bc42db880>"
      ]
     },
     "execution_count": 68,
     "metadata": {},
     "output_type": "execute_result"
    },
    {
     "data": {
      "image/png": "[encoded data removed]",
      "text/plain": [
       "<Figure size 432x288 with 1 Axes>"
      ]
     },
     "metadata": {
      "needs_background": "light"
     },
     "output_type": "display_data"
    }
   ],
   "source": [
    "# learner = ml.dtree.treeClassify(Xt, Yt, maxDepth=15)\n",
    "\n",
    "# # vary maxDepth\n",
    "\n",
    "Depth = np.arange(1,50,5)\n",
    "tr_aucDT = []\n",
    "va_aucDT = []\n",
    "\n",
    "def varyMaxD():\n",
    "    for d in Depth:\n",
    "        learner = ml.dtree.treeClassify(XtS, Yt, maxDepth=d)\n",
    "        tr_aucDT.append(learner.auc(XtS, Yt))\n",
    "        va_aucDT.append(learner.auc(XvS, Yv))\n",
    "        print('Depth = %d'% d)\n",
    "    return tr_aucDT, va_aucDT\n",
    "\n",
    "tr_aucDT, va_aucDT = varyMaxD()\n",
    "plt.plot(Depth, tr_aucDT, label = 'training')\n",
    "plt.plot(Depth, va_aucDT, label = 'validation')\n",
    "plt.xlabel('MaxDepth')\n",
    "plt.ylabel('AUC')\n",
    "plt.legend()\n"
   ]
  },
  {
   "cell_type": "markdown",
   "metadata": {},
   "source": [
    "## Question 2"
   ]
  },
  {
   "cell_type": "code",
   "execution_count": 69,
   "metadata": {},
   "outputs": [
    {
     "name": "stdout",
     "output_type": "stream",
     "text": [
      "Depth = 1\n",
      "Depth = 6\n",
      "Depth = 11\n",
      "Depth = 16\n",
      "Depth = 21\n",
      "Depth = 26\n",
      "Depth = 31\n",
      "Depth = 36\n",
      "Depth = 41\n",
      "Depth = 46\n",
      "[3, 103, 629, 1345, 1863, 2033, 2075, 2119, 2091, 2119]\n",
      "[3, 103, 597, 1255, 1679, 1809, 1851, 1875, 1875, 1877]\n"
     ]
    },
    {
     "data": {
      "text/plain": [
       "<matplotlib.legend.Legend at 0x7f9bc41c7a90>"
      ]
     },
     "execution_count": 69,
     "metadata": {},
     "output_type": "execute_result"
    },
    {
     "data": {
      "image/png": "[encoded data removed]",
      "text/plain": [
       "<Figure size 432x288 with 1 Axes>"
      ]
     },
     "metadata": {
      "needs_background": "light"
     },
     "output_type": "display_data"
    }
   ],
   "source": [
    "# plot the number of nodes in the tree as MaxDepth is varied\n",
    "Depth = np.arange(1,50,5)\n",
    "nnodes2 = []\n",
    "nnodes4 = []\n",
    "\n",
    "\n",
    "def increaseMP():\n",
    "\n",
    "    for d in Depth:\n",
    "        learner = ml.dtree.treeClassify(XtS, Yt, minParent=2, maxDepth=d)\n",
    "        nnodes2.append(learner.sz)\n",
    "\n",
    "        learner = ml.dtree.treeClassify(XtS, Yt, minParent=4, maxDepth=d)\n",
    "        nnodes4.append(learner.sz)\n",
    "\n",
    "        print('Depth = %d'% d)\n",
    "    return nnodes2, nnodes4\n",
    "\n",
    "nnodes2, nnodes4 = increaseMP()\n",
    "print(nnodes2)\n",
    "print(nnodes4)\n",
    "\n",
    "plt.plot(Depth, nnodes2, label = 'minParent=2')\n",
    "plt.plot(Depth, nnodes4, label = 'minParent=4')\n",
    "plt.xlabel('MaxDepth')\n",
    "plt.ylabel('Number of Nodes')\n",
    "plt.legend()"
   ]
  },
  {
   "cell_type": "markdown",
   "metadata": {},
   "source": [
    "## Question 3"
   ]
  },
  {
   "cell_type": "code",
   "execution_count": 71,
   "metadata": {},
   "outputs": [
    {
     "name": "stdout",
     "output_type": "stream",
     "text": [
      "p:2\n",
      "p:3\n",
      "p:4\n",
      "p:5\n",
      "p:6\n",
      "p:7\n",
      "p:8\n",
      "p:9\n",
      "p:10\n",
      "p:11\n",
      "p:12\n",
      "p:13\n",
      "p:14\n",
      "p:15\n",
      "p:16\n",
      "p:17\n",
      "p:18\n",
      "p:19\n"
     ]
    }
   ],
   "source": [
    "# set maxDepth to a fixed value, and plot the training and validation of the minParent and minLeaf in different range. \n",
    "\n",
    "minP = range(2,20,1)\n",
    "minL = range(1,15,1)\n",
    "\n",
    "tr_auc = np.zeros((len(minP),len(minL)))\n",
    "va_auc = np.zeros((len(minP),len(minL)))\n",
    "\n",
    "def fixMaxD():\n",
    "    for i,p in enumerate(minP):\n",
    "        for j,l in enumerate(minL):\n",
    "            learner = ml.dtree.treeClassify(XtS, Yt, maxDepth=10, minParent=p, minLeaf=l)\n",
    "            tr_auc[i][j] = learner.auc(XtS, Yt)\n",
    "            va_auc[i][j] = learner.auc(XvS, Yv)\n",
    "        print('p:%d'%p)\n",
    "    return tr_auc, va_auc\n",
    "\n",
    "tr_auc, va_auc = fixMaxD()"
   ]
  },
  {
   "cell_type": "code",
   "execution_count": 102,
   "metadata": {},
   "outputs": [
    {
     "data": {
      "image/png": "[encoded data removed]",
      "text/plain": [
       "<Figure size 576x360 with 2 Axes>"
      ]
     },
     "metadata": {
      "needs_background": "light"
     },
     "output_type": "display_data"
    }
   ],
   "source": [
    "minP = range(2,20,1)\n",
    "minL = range(1,15,1)\n",
    "# make the plot\n",
    "f, ax = plt.subplots(1,1,figsize=(8,5))\n",
    "cax_dt = ax.matshow(tr_auc, interpolation = 'nearest')\n",
    "f.colorbar(cax_dt)\n",
    "ax.set_yticklabels([0,2,4,6,8,10,12,14,16,18])\n",
    "ax.set_xticklabels([0,1,3,5,7,9,11,13])\n",
    "ax.set_xlabel('minLeaf')\n",
    "ax.set_ylabel('minParent')\n",
    "ax.set_title('Training')\n",
    "plt.show()\n"
   ]
  },
  {
   "cell_type": "code",
   "execution_count": 103,
   "metadata": {},
   "outputs": [
    {
     "data": {
      "image/png": "[encoded data removed]",
      "text/plain": [
       "<Figure size 576x360 with 2 Axes>"
      ]
     },
     "metadata": {
      "needs_background": "light"
     },
     "output_type": "display_data"
    }
   ],
   "source": [
    "\n",
    "# make the plot\n",
    "f, ax = plt.subplots(1,1,figsize=(8,5))\n",
    "cax_dt2 = ax.matshow(va_auc, interpolation = 'nearest')\n",
    "f.colorbar(cax_dt2)\n",
    "ax.set_yticklabels([0,2,4,6,8,10,12,14,16,18])\n",
    "ax.set_xticklabels([0,1,3,5,7,9,11,13])\n",
    "ax.set_xlabel('minLeaf')\n",
    "ax.set_ylabel('minParent')\n",
    "ax.set_title('Validation')\n",
    "plt.show()"
   ]
  },
  {
   "cell_type": "markdown",
   "metadata": {},
   "source": [
    "I would recommand when minLeaf is 13, and when minParent is 9, that way training is around 0.81, and validation is around 0.635."
   ]
  },
  {
   "cell_type": "markdown",
   "metadata": {},
   "source": [
    "# Problem 4: Neural Networks and Conclusion"
   ]
  },
  {
   "cell_type": "markdown",
   "metadata": {},
   "source": [
    "## Question 1"
   ]
  },
  {
   "cell_type": "code",
   "execution_count": 112,
   "metadata": {},
   "outputs": [
    {
     "name": "stdout",
     "output_type": "stream",
     "text": [
      "it 2 : Jsur = 0.4964047583011705, J01 = 0.3356\n",
      "it 4 : Jsur = 0.496452816520986, J01 = 0.3356\n",
      "it 8 : Jsur = 0.49652966524270903, J01 = 0.3356\n",
      "it 16 : Jsur = 0.49662222590206156, J01 = 0.3356\n",
      "it 32 : Jsur = 0.4858231794726526, J01 = 0.3356\n",
      "it 64 : Jsur = 0.46883096148316455, J01 = 0.3356\n",
      "it 128 : Jsur = 0.4610688760146255, J01 = 0.3356\n",
      "it 256 : Jsur = 0.4602249743886936, J01 = 0.3356\n",
      "it 512 : Jsur = 0.4503766336504292, J01 = 0.3356\n",
      "it 2 : Jsur = 0.4995681948475056, J01 = 0.3356\n",
      "it 4 : Jsur = 0.49958072061686754, J01 = 0.3356\n",
      "it 8 : Jsur = 0.49601202903488, J01 = 0.3356\n",
      "it 16 : Jsur = 0.4868040935742205, J01 = 0.3356\n",
      "it 32 : Jsur = 0.48011223331084785, J01 = 0.3356\n",
      "it 64 : Jsur = 0.4864982284753378, J01 = 0.3356\n",
      "it 128 : Jsur = 0.4732671798066075, J01 = 0.3356\n",
      "it 256 : Jsur = 0.4587678125213021, J01 = 0.3356\n",
      "it 512 : Jsur = 0.4513709963770346, J01 = 0.3356\n",
      "it 2 : Jsur = 0.4962141903741942, J01 = 0.3356\n",
      "it 4 : Jsur = 0.4962636534348245, J01 = 0.3356\n",
      "it 8 : Jsur = 0.49990555034425704, J01 = 0.3356\n",
      "it 16 : Jsur = 0.49993463010588823, J01 = 0.3356\n",
      "it 32 : Jsur = 0.4967976168066948, J01 = 0.3356\n",
      "it 64 : Jsur = 0.4795531113082932, J01 = 0.3356\n",
      "it 128 : Jsur = 0.47426759562037535, J01 = 0.3356\n",
      "it 256 : Jsur = 0.46013687307780154, J01 = 0.3356\n",
      "it 512 : Jsur = 0.4521976488580509, J01 = 0.3356\n",
      "it 2 : Jsur = 0.49633916853159027, J01 = 0.3356\n",
      "it 4 : Jsur = 0.4928161540856364, J01 = 0.3356\n",
      "it 8 : Jsur = 0.4896514943068749, J01 = 0.3356\n",
      "it 16 : Jsur = 0.48701417490145543, J01 = 0.3356\n",
      "it 32 : Jsur = 0.4877622854801527, J01 = 0.3356\n",
      "it 64 : Jsur = 0.48264862153127086, J01 = 0.3356\n",
      "it 128 : Jsur = 0.47800277422758736, J01 = 0.3356\n",
      "it 256 : Jsur = 0.4648525700839948, J01 = 0.3356\n",
      "it 512 : Jsur = 0.4602532587986615, J01 = 0.3356\n",
      "it 2 : Jsur = 0.4998261100264339, J01 = 0.3356\n",
      "it 4 : Jsur = 0.4961411259093212, J01 = 0.3356\n",
      "it 8 : Jsur = 0.49621107601861647, J01 = 0.3356\n",
      "it 16 : Jsur = 0.48698780365839883, J01 = 0.3356\n",
      "it 32 : Jsur = 0.475634531574851, J01 = 0.3356\n",
      "it 64 : Jsur = 0.467802564959213, J01 = 0.3356\n",
      "it 128 : Jsur = 0.46516906717674467, J01 = 0.3356\n",
      "it 256 : Jsur = 0.4572113655948583, J01 = 0.3356\n",
      "it 512 : Jsur = 0.4514237410149766, J01 = 0.3356\n",
      "it 2 : Jsur = 0.4999757245251673, J01 = 0.3376\n",
      "it 4 : Jsur = 0.49628410969638315, J01 = 0.3356\n",
      "it 8 : Jsur = 0.49289864830790536, J01 = 0.3356\n",
      "it 16 : Jsur = 0.4870616097046157, J01 = 0.3356\n",
      "it 32 : Jsur = 0.4879846854973004, J01 = 0.3356\n",
      "it 64 : Jsur = 0.4872262097336179, J01 = 0.3356\n",
      "it 128 : Jsur = 0.47761118503411115, J01 = 0.3356\n",
      "it 256 : Jsur = 0.46489211913915435, J01 = 0.3356\n",
      "it 512 : Jsur = 0.4596361997116026, J01 = 0.3356\n",
      "it 2 : Jsur = 0.49980105267930713, J01 = 0.3356\n",
      "it 4 : Jsur = 0.49979496176988075, J01 = 0.3356\n",
      "it 8 : Jsur = 0.4962553635651906, J01 = 0.3356\n",
      "it 16 : Jsur = 0.49640961811161516, J01 = 0.3356\n",
      "it 32 : Jsur = 0.4882104600876668, J01 = 0.3356\n",
      "it 64 : Jsur = 0.4754645859100733, J01 = 0.3356\n",
      "it 128 : Jsur = 0.4645620508551081, J01 = 0.3356\n",
      "it 256 : Jsur = 0.46109943893815036, J01 = 0.3356\n",
      "it 512 : Jsur = 0.4529191833305751, J01 = 0.3356\n",
      "it 2 : Jsur = 0.5033281152378409, J01 = 0.6644\n",
      "it 4 : Jsur = 0.4994816186471064, J01 = 0.3356\n",
      "it 8 : Jsur = 0.4925056100624219, J01 = 0.3356\n",
      "it 16 : Jsur = 0.48672110728717216, J01 = 0.3356\n",
      "it 32 : Jsur = 0.47329827410001324, J01 = 0.3356\n",
      "it 64 : Jsur = 0.46732362950703793, J01 = 0.3356\n",
      "it 128 : Jsur = 0.46917622716344687, J01 = 0.3356\n",
      "it 256 : Jsur = 0.45837449649456585, J01 = 0.3356\n",
      "it 512 : Jsur = 0.45451431859472397, J01 = 0.3356\n",
      "it 2 : Jsur = 0.4964548131585935, J01 = 0.3356\n",
      "it 4 : Jsur = 0.4929268004053679, J01 = 0.3356\n",
      "it 8 : Jsur = 0.4897295628977583, J01 = 0.3356\n",
      "it 16 : Jsur = 0.4901194023990734, J01 = 0.3356\n",
      "it 32 : Jsur = 0.48823777841065574, J01 = 0.3356\n",
      "it 64 : Jsur = 0.4852683369913335, J01 = 0.3356\n",
      "it 128 : Jsur = 0.4733710958333555, J01 = 0.3356\n",
      "it 256 : Jsur = 0.4593304232715006, J01 = 0.3356\n",
      "it 512 : Jsur = 0.45327388620731307, J01 = 0.3356\n",
      "it 2 : Jsur = 0.49617576374206035, J01 = 0.3356\n",
      "it 4 : Jsur = 0.49990870472075166, J01 = 0.3356\n",
      "it 8 : Jsur = 0.49632217347712604, J01 = 0.3356\n",
      "it 16 : Jsur = 0.49014234198029444, J01 = 0.3356\n",
      "it 32 : Jsur = 0.4880138898825815, J01 = 0.3356\n",
      "it 64 : Jsur = 0.4811964037710362, J01 = 0.3356\n",
      "it 128 : Jsur = 0.4770329258351752, J01 = 0.3356\n",
      "it 256 : Jsur = 0.4682002593061513, J01 = 0.3356\n",
      "it 512 : Jsur = 0.45528120542018, J01 = 0.3356\n",
      "it 2 : Jsur = 0.49601040242112776, J01 = 0.3356\n",
      "it 4 : Jsur = 0.4925036030288695, J01 = 0.3356\n",
      "it 8 : Jsur = 0.49267620603072976, J01 = 0.3356\n",
      "it 16 : Jsur = 0.49293310860274553, J01 = 0.3356\n",
      "it 32 : Jsur = 0.4934904043804121, J01 = 0.3356\n",
      "it 64 : Jsur = 0.47915133788772746, J01 = 0.3356\n",
      "it 128 : Jsur = 0.4616716735189468, J01 = 0.3356\n",
      "it 256 : Jsur = 0.4556181232811848, J01 = 0.3356\n",
      "it 512 : Jsur = 0.4532018938153502, J01 = 0.3356\n",
      "it 2 : Jsur = 0.49658898289805536, J01 = 0.3356\n",
      "it 4 : Jsur = 0.4930535423356155, J01 = 0.3356\n",
      "it 8 : Jsur = 0.48987502533273475, J01 = 0.3356\n",
      "it 16 : Jsur = 0.4815219569559633, J01 = 0.3356\n",
      "it 32 : Jsur = 0.4778367231320628, J01 = 0.3356\n",
      "it 64 : Jsur = 0.4694561423098231, J01 = 0.3356\n",
      "it 128 : Jsur = 0.4606298021588831, J01 = 0.3356\n",
      "it 256 : Jsur = 0.45369553035222326, J01 = 0.3356\n",
      "it 512 : Jsur = 0.4524690518871759, J01 = 0.3356\n",
      "it 2 : Jsur = 0.5002056407500252, J01 = 0.6644\n",
      "it 4 : Jsur = 0.49650345308599436, J01 = 0.3356\n",
      "it 8 : Jsur = 0.4931329579930569, J01 = 0.3356\n",
      "it 16 : Jsur = 0.49031427185911997, J01 = 0.3356\n",
      "it 32 : Jsur = 0.4855114397139045, J01 = 0.3356\n",
      "it 64 : Jsur = 0.4851077484100788, J01 = 0.3356\n",
      "it 128 : Jsur = 0.474614564474684, J01 = 0.3356\n",
      "it 256 : Jsur = 0.45725199506697445, J01 = 0.3356\n",
      "it 512 : Jsur = 0.4511929484366039, J01 = 0.3356\n",
      "it 2 : Jsur = 0.4960316849524239, J01 = 0.3356\n",
      "it 4 : Jsur = 0.49252224368813474, J01 = 0.3356\n",
      "it 8 : Jsur = 0.4926811720630896, J01 = 0.3356\n",
      "it 16 : Jsur = 0.48681104580770235, J01 = 0.3356\n",
      "it 32 : Jsur = 0.4801426479536246, J01 = 0.3356\n",
      "it 64 : Jsur = 0.47273636060932633, J01 = 0.3356\n",
      "it 128 : Jsur = 0.4636759882561728, J01 = 0.3356\n",
      "it 256 : Jsur = 0.45610310678405946, J01 = 0.3356\n",
      "it 512 : Jsur = 0.45121020621506885, J01 = 0.3356\n",
      "it 2 : Jsur = 0.4995862862824244, J01 = 0.3356\n",
      "it 4 : Jsur = 0.4995834460495057, J01 = 0.3356\n",
      "it 8 : Jsur = 0.4926014554313281, J01 = 0.3356\n",
      "it 16 : Jsur = 0.49616383715357343, J01 = 0.3356\n",
      "it 32 : Jsur = 0.4993912587621889, J01 = 0.3356\n",
      "it 64 : Jsur = 0.4995019361328243, J01 = 0.3356\n",
      "it 128 : Jsur = 0.4908983445317549, J01 = 0.3356\n",
      "it 256 : Jsur = 0.4743878415622121, J01 = 0.3356\n",
      "it 512 : Jsur = 0.4589859059391763, J01 = 0.3356\n",
      "it 2 : Jsur = 0.5002812043645954, J01 = 0.6644\n",
      "it 4 : Jsur = 0.5002703764426621, J01 = 0.6644\n",
      "it 8 : Jsur = 0.49667777739475116, J01 = 0.3356\n",
      "it 16 : Jsur = 0.4936316651983896, J01 = 0.3356\n",
      "it 32 : Jsur = 0.4832977876745574, J01 = 0.3356\n",
      "it 64 : Jsur = 0.47190918705500845, J01 = 0.3356\n",
      "it 128 : Jsur = 0.45769631133642386, J01 = 0.3356\n",
      "it 256 : Jsur = 0.4535850549457915, J01 = 0.3356\n",
      "it 512 : Jsur = 0.45004852467131656, J01 = 0.3356\n",
      "it 2 : Jsur = 0.4963454523419143, J01 = 0.3356\n",
      "it 4 : Jsur = 0.5000836205332295, J01 = 0.6644\n",
      "it 8 : Jsur = 0.496486468140418, J01 = 0.3356\n",
      "it 16 : Jsur = 0.49027730237130757, J01 = 0.3356\n",
      "it 32 : Jsur = 0.49653651063000526, J01 = 0.3356\n",
      "it 64 : Jsur = 0.48335070867602, J01 = 0.3356\n",
      "it 128 : Jsur = 0.47352641803350726, J01 = 0.3356\n",
      "it 256 : Jsur = 0.4618396243565228, J01 = 0.3356\n",
      "it 512 : Jsur = 0.4554710290938535, J01 = 0.3356\n",
      "it 2 : Jsur = 0.5005109967711421, J01 = 0.6644\n",
      "it 4 : Jsur = 0.49679427196735343, J01 = 0.3356\n",
      "it 8 : Jsur = 0.4934206610636073, J01 = 0.3356\n",
      "it 16 : Jsur = 0.4874524750394142, J01 = 0.3356\n",
      "it 32 : Jsur = 0.4856741637480116, J01 = 0.3356\n",
      "it 64 : Jsur = 0.4739038453382732, J01 = 0.3356\n",
      "it 128 : Jsur = 0.46248120422336897, J01 = 0.3356\n",
      "it 256 : Jsur = 0.4540104440744757, J01 = 0.3356\n",
      "it 512 : Jsur = 0.4494002405556974, J01 = 0.3356\n",
      "it 2 : Jsur = 0.49600524748321057, J01 = 0.3356\n",
      "it 4 : Jsur = 0.4997343295561488, J01 = 0.3356\n",
      "it 8 : Jsur = 0.4927379779989848, J01 = 0.3356\n",
      "it 16 : Jsur = 0.4898782953264912, J01 = 0.3356\n",
      "it 32 : Jsur = 0.48033643001056836, J01 = 0.3356\n",
      "it 64 : Jsur = 0.4749373440070127, J01 = 0.3356\n",
      "it 128 : Jsur = 0.46531104677458124, J01 = 0.3356\n",
      "it 256 : Jsur = 0.45769713010272006, J01 = 0.3356\n",
      "it 512 : Jsur = 0.4523425792828945, J01 = 0.3356\n",
      "it 2 : Jsur = 0.5001151171147087, J01 = 0.6644\n",
      "it 4 : Jsur = 0.4964171817300902, J01 = 0.3356\n",
      "it 8 : Jsur = 0.49652251588463786, J01 = 0.3356\n",
      "it 16 : Jsur = 0.493403543585988, J01 = 0.3356\n",
      "it 32 : Jsur = 0.49099250007908496, J01 = 0.3356\n"
     ]
    },
    {
     "name": "stdout",
     "output_type": "stream",
     "text": [
      "it 64 : Jsur = 0.47943105476733205, J01 = 0.3356\n",
      "it 128 : Jsur = 0.4715941329832136, J01 = 0.3356\n",
      "it 256 : Jsur = 0.4586691984718379, J01 = 0.3356\n",
      "it 512 : Jsur = 0.4537119136133115, J01 = 0.3356\n",
      "it 2 : Jsur = 0.5000367318308471, J01 = 0.6644\n",
      "it 4 : Jsur = 0.5000287205661369, J01 = 0.6644\n",
      "it 8 : Jsur = 0.4964489856052769, J01 = 0.3356\n",
      "it 16 : Jsur = 0.4966551894554319, J01 = 0.3356\n",
      "it 32 : Jsur = 0.48321479411255985, J01 = 0.3356\n",
      "it 64 : Jsur = 0.480907334963193, J01 = 0.3356\n",
      "it 128 : Jsur = 0.467784621620607, J01 = 0.3356\n",
      "it 256 : Jsur = 0.4589491035319472, J01 = 0.3356\n",
      "it 512 : Jsur = 0.4516116203983216, J01 = 0.3356\n",
      "it 2 : Jsur = 0.4998663964057847, J01 = 0.3356\n",
      "it 4 : Jsur = 0.49617881684055437, J01 = 0.3356\n",
      "it 8 : Jsur = 0.492799198689492, J01 = 0.3356\n",
      "it 16 : Jsur = 0.49631270265125604, J01 = 0.3356\n",
      "it 32 : Jsur = 0.4855977535264205, J01 = 0.3356\n",
      "it 64 : Jsur = 0.4790848538372385, J01 = 0.3356\n",
      "it 128 : Jsur = 0.4740888396596113, J01 = 0.3356\n",
      "it 256 : Jsur = 0.469853192681529, J01 = 0.3356\n",
      "it 512 : Jsur = 0.45597557655285925, J01 = 0.3356\n",
      "it 2 : Jsur = 0.4963229478999883, J01 = 0.3356\n",
      "it 4 : Jsur = 0.4928011440360033, J01 = 0.3356\n",
      "it 8 : Jsur = 0.4864325808013133, J01 = 0.3356\n",
      "it 16 : Jsur = 0.4785383949346764, J01 = 0.3356\n",
      "it 32 : Jsur = 0.47764033988818116, J01 = 0.3356\n",
      "it 64 : Jsur = 0.46330365583696514, J01 = 0.3356\n",
      "it 128 : Jsur = 0.45656650256741405, J01 = 0.3356\n",
      "it 256 : Jsur = 0.44826765092765763, J01 = 0.3356\n",
      "it 512 : Jsur = 0.4490965850932506, J01 = 0.3356\n",
      "it 2 : Jsur = 0.500127801553427, J01 = 0.6644\n",
      "it 4 : Jsur = 0.4964284274752637, J01 = 0.3356\n",
      "it 8 : Jsur = 0.4965197746131748, J01 = 0.3356\n",
      "it 16 : Jsur = 0.48434452030623787, J01 = 0.3356\n",
      "it 32 : Jsur = 0.47576356767858996, J01 = 0.3356\n",
      "it 64 : Jsur = 0.47137661995160335, J01 = 0.3356\n",
      "it 128 : Jsur = 0.4589609017603047, J01 = 0.3356\n",
      "it 256 : Jsur = 0.45345153875175265, J01 = 0.3356\n",
      "it 512 : Jsur = 0.450624788022099, J01 = 0.3356\n",
      "it 2 : Jsur = 0.49977698801087717, J01 = 0.3356\n",
      "it 4 : Jsur = 0.4960946549291155, J01 = 0.3356\n",
      "it 8 : Jsur = 0.4894253050996031, J01 = 0.3356\n",
      "it 16 : Jsur = 0.4839208260519391, J01 = 0.3356\n",
      "it 32 : Jsur = 0.48004141934847877, J01 = 0.3356\n",
      "it 64 : Jsur = 0.469555265198063, J01 = 0.3356\n",
      "it 128 : Jsur = 0.4623017312340575, J01 = 0.3356\n",
      "it 256 : Jsur = 0.45686684040927295, J01 = 0.3356\n",
      "it 512 : Jsur = 0.45018448511124654, J01 = 0.3356\n",
      "it 2 : Jsur = 0.49637850584197224, J01 = 0.3356\n",
      "it 4 : Jsur = 0.49285326454715767, J01 = 0.3356\n",
      "it 8 : Jsur = 0.4896734357020725, J01 = 0.3356\n",
      "it 16 : Jsur = 0.48419544169056117, J01 = 0.3356\n",
      "it 32 : Jsur = 0.47803063324640277, J01 = 0.3356\n",
      "it 64 : Jsur = 0.4696776673705831, J01 = 0.3356\n",
      "it 128 : Jsur = 0.46071373706363355, J01 = 0.3356\n",
      "it 256 : Jsur = 0.4639532295009611, J01 = 0.3356\n",
      "it 512 : Jsur = 0.45435012248224504, J01 = 0.3356\n",
      "it 2 : Jsur = 0.49934414588473663, J01 = 0.3356\n",
      "it 4 : Jsur = 0.499344061839564, J01 = 0.3356\n",
      "it 8 : Jsur = 0.4993301561993713, J01 = 0.3356\n",
      "it 16 : Jsur = 0.49929497429642034, J01 = 0.3356\n",
      "it 32 : Jsur = 0.49645935809055336, J01 = 0.3356\n",
      "it 64 : Jsur = 0.48576335310962343, J01 = 0.3356\n",
      "it 128 : Jsur = 0.4710849076960389, J01 = 0.3356\n",
      "it 256 : Jsur = 0.4637701934944172, J01 = 0.3356\n",
      "it 512 : Jsur = 0.4528915578454343, J01 = 0.3356\n",
      "it 2 : Jsur = 0.5001760529489908, J01 = 0.6644\n",
      "it 4 : Jsur = 0.5001816380436256, J01 = 0.6644\n",
      "it 8 : Jsur = 0.5001918922905862, J01 = 0.6644\n",
      "it 16 : Jsur = 0.5002210945278538, J01 = 0.6644\n",
      "it 32 : Jsur = 0.49724332773823837, J01 = 0.3356\n",
      "it 64 : Jsur = 0.48035237995999397, J01 = 0.3356\n",
      "it 128 : Jsur = 0.4792699519353606, J01 = 0.3356\n",
      "it 256 : Jsur = 0.46812121416541774, J01 = 0.3356\n",
      "it 512 : Jsur = 0.4575191879289587, J01 = 0.3356\n",
      "it 2 : Jsur = 0.499876007481637, J01 = 0.3356\n",
      "it 4 : Jsur = 0.4961879761573309, J01 = 0.3356\n",
      "it 8 : Jsur = 0.4998578769733467, J01 = 0.3356\n",
      "it 16 : Jsur = 0.49991322239170294, J01 = 0.3356\n",
      "it 32 : Jsur = 0.485796604765585, J01 = 0.3356\n",
      "it 64 : Jsur = 0.47930683042991734, J01 = 0.3356\n",
      "it 128 : Jsur = 0.4670677386052226, J01 = 0.3356\n",
      "it 256 : Jsur = 0.4564155460568575, J01 = 0.3356\n",
      "it 512 : Jsur = 0.4509417524617393, J01 = 0.3356\n",
      "it 2 : Jsur = 0.5000976885396151, J01 = 0.6644\n",
      "it 4 : Jsur = 0.5001041667947357, J01 = 0.6644\n",
      "it 8 : Jsur = 0.4965345950591098, J01 = 0.3356\n",
      "it 16 : Jsur = 0.49028857489005023, J01 = 0.3356\n",
      "it 32 : Jsur = 0.48308991377400706, J01 = 0.3356\n",
      "it 64 : Jsur = 0.48905309000315483, J01 = 0.3356\n",
      "it 128 : Jsur = 0.47206703020979895, J01 = 0.3356\n",
      "it 256 : Jsur = 0.46472520049084826, J01 = 0.3356\n",
      "it 512 : Jsur = 0.45325632385363623, J01 = 0.3356\n",
      "it 2 : Jsur = 0.4997582066739059, J01 = 0.3356\n",
      "it 4 : Jsur = 0.4960765296285279, J01 = 0.3356\n",
      "it 8 : Jsur = 0.4997440382733111, J01 = 0.3356\n",
      "it 16 : Jsur = 0.4870378069910512, J01 = 0.3356\n",
      "it 32 : Jsur = 0.47140493893558266, J01 = 0.3356\n",
      "it 64 : Jsur = 0.4606904054215279, J01 = 0.3356\n",
      "it 128 : Jsur = 0.4556912929610722, J01 = 0.3356\n",
      "it 256 : Jsur = 0.4498649708506979, J01 = 0.3356\n",
      "it 512 : Jsur = 0.44917889195131827, J01 = 0.3356\n",
      "it 2 : Jsur = 0.5000901164692355, J01 = 0.6644\n",
      "it 4 : Jsur = 0.5000814916271602, J01 = 0.6644\n",
      "it 8 : Jsur = 0.5000511772487082, J01 = 0.6644\n",
      "it 16 : Jsur = 0.4966927867042461, J01 = 0.3356\n",
      "it 32 : Jsur = 0.49128635586155206, J01 = 0.3356\n",
      "it 64 : Jsur = 0.48781851656872777, J01 = 0.3356\n",
      "it 128 : Jsur = 0.4701091180196625, J01 = 0.3356\n",
      "it 256 : Jsur = 0.4622204649425769, J01 = 0.3356\n",
      "it 512 : Jsur = 0.4530706960741556, J01 = 0.3356\n",
      "it 2 : Jsur = 0.49644415713214957, J01 = 0.3356\n",
      "it 4 : Jsur = 0.4929156009309432, J01 = 0.3356\n",
      "it 8 : Jsur = 0.4930668310542267, J01 = 0.3356\n",
      "it 16 : Jsur = 0.4842402659822999, J01 = 0.3356\n",
      "it 32 : Jsur = 0.4804424562787237, J01 = 0.3356\n",
      "it 64 : Jsur = 0.4733550609435417, J01 = 0.3356\n",
      "it 128 : Jsur = 0.47197179438969616, J01 = 0.3356\n",
      "it 256 : Jsur = 0.4597334378003852, J01 = 0.3356\n",
      "it 512 : Jsur = 0.45167291566284773, J01 = 0.3356\n",
      "it 2 : Jsur = 0.49616452425566077, J01 = 0.3356\n",
      "it 4 : Jsur = 0.49620024145356056, J01 = 0.3356\n",
      "it 8 : Jsur = 0.49625517242612394, J01 = 0.3356\n",
      "it 16 : Jsur = 0.4870254274864008, J01 = 0.3356\n",
      "it 32 : Jsur = 0.48031494717739315, J01 = 0.3356\n",
      "it 64 : Jsur = 0.47132098358169006, J01 = 0.3356\n",
      "it 128 : Jsur = 0.4628378268069377, J01 = 0.3356\n",
      "it 256 : Jsur = 0.45169571988934876, J01 = 0.3356\n",
      "it 512 : Jsur = 0.4487510910819302, J01 = 0.3356\n",
      "it 2 : Jsur = 0.4966624957232065, J01 = 0.3356\n",
      "it 4 : Jsur = 0.49312515322440476, J01 = 0.3356\n",
      "it 8 : Jsur = 0.4899438593667074, J01 = 0.3356\n",
      "it 16 : Jsur = 0.4872627350041228, J01 = 0.3356\n",
      "it 32 : Jsur = 0.4830697066713248, J01 = 0.3356\n",
      "it 64 : Jsur = 0.46993919527266315, J01 = 0.3356\n",
      "it 128 : Jsur = 0.4685211680224824, J01 = 0.3356\n",
      "it 256 : Jsur = 0.45798205384392643, J01 = 0.3356\n",
      "it 512 : Jsur = 0.45199937706376475, J01 = 0.3356\n",
      "it 2 : Jsur = 0.4963731657636099, J01 = 0.3356\n",
      "it 4 : Jsur = 0.49284834293295354, J01 = 0.3356\n",
      "it 8 : Jsur = 0.48968173779266105, J01 = 0.3356\n",
      "it 16 : Jsur = 0.4841605855772745, J01 = 0.3356\n",
      "it 32 : Jsur = 0.4756353087276225, J01 = 0.3356\n",
      "it 64 : Jsur = 0.4708777556736064, J01 = 0.3356\n",
      "it 128 : Jsur = 0.4615470683385796, J01 = 0.3356\n",
      "it 256 : Jsur = 0.46143467686015904, J01 = 0.3356\n",
      "it 512 : Jsur = 0.4539884883122399, J01 = 0.3356\n",
      "it 2 : Jsur = 0.5001170648732239, J01 = 0.6644\n",
      "it 4 : Jsur = 0.5001081215465463, J01 = 0.6644\n",
      "it 8 : Jsur = 0.5037953708293882, J01 = 0.6644\n",
      "it 16 : Jsur = 0.4936121794296667, J01 = 0.3356\n",
      "it 32 : Jsur = 0.4912831374981281, J01 = 0.3356\n",
      "it 64 : Jsur = 0.48376313084024797, J01 = 0.3356\n",
      "it 128 : Jsur = 0.47778238116166666, J01 = 0.3356\n",
      "it 256 : Jsur = 0.4648424117522183, J01 = 0.3356\n",
      "it 512 : Jsur = 0.454514854705369, J01 = 0.3356\n",
      "it 2 : Jsur = 0.5000755606387367, J01 = 0.6644\n",
      "it 4 : Jsur = 0.4963789501207682, J01 = 0.3356\n",
      "it 8 : Jsur = 0.49648511095359865, J01 = 0.3356\n",
      "it 16 : Jsur = 0.49334527359789665, J01 = 0.3356\n",
      "it 32 : Jsur = 0.48566691782979504, J01 = 0.3356\n",
      "it 64 : Jsur = 0.48924498440882125, J01 = 0.3356\n",
      "it 128 : Jsur = 0.4817509705524101, J01 = 0.3356\n",
      "it 256 : Jsur = 0.4657046903563886, J01 = 0.3356\n",
      "it 512 : Jsur = 0.4555953252018082, J01 = 0.3356\n",
      "it 2 : Jsur = 0.5001641563734531, J01 = 0.6644\n",
      "it 4 : Jsur = 0.500154679251137, J01 = 0.6644\n",
      "it 8 : Jsur = 0.49659639926696236, J01 = 0.3356\n",
      "it 16 : Jsur = 0.49041255666466194, J01 = 0.3356\n",
      "it 32 : Jsur = 0.4857430699413311, J01 = 0.3356\n",
      "it 64 : Jsur = 0.4738928396594401, J01 = 0.3356\n",
      "it 128 : Jsur = 0.458875729870059, J01 = 0.3356\n",
      "it 256 : Jsur = 0.45229902225032054, J01 = 0.3356\n",
      "it 512 : Jsur = 0.44831458664228857, J01 = 0.3356\n",
      "it 2 : Jsur = 0.4998960347633859, J01 = 0.3356\n",
      "it 4 : Jsur = 0.4962076238872742, J01 = 0.3356\n",
      "it 8 : Jsur = 0.4962900711579211, J01 = 0.3356\n",
      "it 16 : Jsur = 0.49002283590875434, J01 = 0.3356\n",
      "it 32 : Jsur = 0.4827904761581276, J01 = 0.3356\n"
     ]
    },
    {
     "name": "stdout",
     "output_type": "stream",
     "text": [
      "it 64 : Jsur = 0.47855511981946564, J01 = 0.3356\n",
      "it 128 : Jsur = 0.4651339009545226, J01 = 0.3356\n",
      "it 256 : Jsur = 0.4608704924225014, J01 = 0.3356\n",
      "it 512 : Jsur = 0.455278318308086, J01 = 0.3356\n",
      "it 2 : Jsur = 0.5001617746292887, J01 = 0.6644\n",
      "it 4 : Jsur = 0.5001675216550968, J01 = 0.6644\n",
      "it 8 : Jsur = 0.5001352836453316, J01 = 0.6644\n",
      "it 16 : Jsur = 0.4968058582279358, J01 = 0.3356\n",
      "it 32 : Jsur = 0.48867414340643534, J01 = 0.3356\n",
      "it 64 : Jsur = 0.47589094139046245, J01 = 0.3356\n",
      "it 128 : Jsur = 0.47835318610365957, J01 = 0.3356\n",
      "it 256 : Jsur = 0.46444939318131034, J01 = 0.3356\n",
      "it 512 : Jsur = 0.4547262756471547, J01 = 0.3356\n",
      "it 2 : Jsur = 0.5000589165749525, J01 = 0.6644\n",
      "it 4 : Jsur = 0.49636301827083573, J01 = 0.3356\n",
      "it 8 : Jsur = 0.4929735449656833, J01 = 0.3356\n",
      "it 16 : Jsur = 0.48712873145045144, J01 = 0.3356\n",
      "it 32 : Jsur = 0.4879422075637378, J01 = 0.3356\n",
      "it 64 : Jsur = 0.4806021632020704, J01 = 0.3356\n",
      "it 128 : Jsur = 0.4643945050771979, J01 = 0.3356\n",
      "it 256 : Jsur = 0.4541197139187669, J01 = 0.3356\n",
      "it 512 : Jsur = 0.45176434675488564, J01 = 0.3356\n",
      "it 2 : Jsur = 0.49981851779369135, J01 = 0.3356\n",
      "it 4 : Jsur = 0.496133899722507, J01 = 0.3356\n",
      "it 8 : Jsur = 0.49277052458763754, J01 = 0.3356\n",
      "it 16 : Jsur = 0.4840278600468101, J01 = 0.3356\n",
      "it 32 : Jsur = 0.47779914919124006, J01 = 0.3356\n",
      "it 64 : Jsur = 0.4745124563071316, J01 = 0.3356\n",
      "it 128 : Jsur = 0.46002106049629976, J01 = 0.3356\n",
      "it 256 : Jsur = 0.4548844075902858, J01 = 0.3356\n",
      "it 512 : Jsur = 0.45230528299909084, J01 = 0.3356\n",
      "it 2 : Jsur = 0.496529430294228, J01 = 0.3356\n",
      "it 4 : Jsur = 0.4965610850714958, J01 = 0.3356\n",
      "it 8 : Jsur = 0.4966219962612089, J01 = 0.3356\n",
      "it 16 : Jsur = 0.48443147409601217, J01 = 0.3356\n",
      "it 32 : Jsur = 0.4781234419421447, J01 = 0.3356\n",
      "it 64 : Jsur = 0.4696005225265404, J01 = 0.3356\n",
      "it 128 : Jsur = 0.46804200864904394, J01 = 0.3356\n",
      "it 256 : Jsur = 0.46399447054444065, J01 = 0.3356\n",
      "it 512 : Jsur = 0.4568139076255453, J01 = 0.3356\n",
      "it 2 : Jsur = 0.49658172758763686, J01 = 0.3356\n",
      "it 4 : Jsur = 0.49304649829435837, J01 = 0.3356\n",
      "it 8 : Jsur = 0.4866532440371877, J01 = 0.3356\n",
      "it 16 : Jsur = 0.4814724478283966, J01 = 0.3356\n",
      "it 32 : Jsur = 0.47557245034401185, J01 = 0.3356\n",
      "it 64 : Jsur = 0.47299892022387785, J01 = 0.3356\n",
      "it 128 : Jsur = 0.4627650389282092, J01 = 0.3356\n",
      "it 256 : Jsur = 0.46098615474732507, J01 = 0.3356\n",
      "it 512 : Jsur = 0.4553032579234065, J01 = 0.3356\n",
      "it 2 : Jsur = 0.5002621521513704, J01 = 0.6644\n",
      "it 4 : Jsur = 0.5002667588783218, J01 = 0.6644\n",
      "it 8 : Jsur = 0.49667417419286264, J01 = 0.3356\n",
      "it 16 : Jsur = 0.49040157881438534, J01 = 0.3356\n",
      "it 32 : Jsur = 0.4783353131089848, J01 = 0.3356\n",
      "it 64 : Jsur = 0.47325829787805807, J01 = 0.3356\n",
      "it 128 : Jsur = 0.4685231300546682, J01 = 0.3356\n",
      "it 256 : Jsur = 0.4554327739024835, J01 = 0.3356\n",
      "it 512 : Jsur = 0.45207367368116036, J01 = 0.3356\n",
      "it 2 : Jsur = 0.49998409466998545, J01 = 0.3356\n",
      "it 4 : Jsur = 0.49997668728541905, J01 = 0.3356\n",
      "it 8 : Jsur = 0.4999487127742401, J01 = 0.3356\n",
      "it 16 : Jsur = 0.4872075371639334, J01 = 0.3356\n",
      "it 32 : Jsur = 0.4805394763652814, J01 = 0.3356\n",
      "it 64 : Jsur = 0.490991040738976, J01 = 0.3356\n",
      "it 128 : Jsur = 0.4719911134641117, J01 = 0.3356\n",
      "it 256 : Jsur = 0.46680043145173833, J01 = 0.3356\n",
      "it 512 : Jsur = 0.4577886140471074, J01 = 0.3356\n",
      "it 2 : Jsur = 0.5039700027393991, J01 = 0.6644\n",
      "it 4 : Jsur = 0.5039317135336916, J01 = 0.6644\n",
      "it 8 : Jsur = 0.49657107806281875, J01 = 0.3356\n",
      "it 16 : Jsur = 0.5035845402146334, J01 = 0.6644\n",
      "it 32 : Jsur = 0.497266671651909, J01 = 0.3356\n",
      "it 64 : Jsur = 0.48193628242767544, J01 = 0.3356\n",
      "it 128 : Jsur = 0.4688715231330524, J01 = 0.3356\n",
      "it 256 : Jsur = 0.4603941230477368, J01 = 0.3356\n",
      "it 512 : Jsur = 0.4526747635696887, J01 = 0.3356\n",
      "it 2 : Jsur = 0.49640753441804447, J01 = 0.3356\n",
      "it 4 : Jsur = 0.49644055338099913, J01 = 0.3356\n",
      "it 8 : Jsur = 0.4930728992484611, J01 = 0.3356\n",
      "it 16 : Jsur = 0.4901558346925064, J01 = 0.3356\n",
      "it 32 : Jsur = 0.47594924344260287, J01 = 0.3356\n",
      "it 64 : Jsur = 0.4680020446418821, J01 = 0.3356\n",
      "it 128 : Jsur = 0.4635099541345551, J01 = 0.3356\n",
      "it 256 : Jsur = 0.4579908763914311, J01 = 0.3356\n",
      "it 512 : Jsur = 0.4513833794622384, J01 = 0.3356\n",
      "it 2 : Jsur = 0.4962424643774715, J01 = 0.3356\n",
      "it 4 : Jsur = 0.4962772928870986, J01 = 0.3356\n",
      "it 8 : Jsur = 0.489591599490159, J01 = 0.3356\n",
      "it 16 : Jsur = 0.4840912978737898, J01 = 0.3356\n",
      "it 32 : Jsur = 0.47564497243902715, J01 = 0.3356\n",
      "it 64 : Jsur = 0.4621575835107172, J01 = 0.3356\n",
      "it 128 : Jsur = 0.45255008996805063, J01 = 0.3356\n",
      "it 256 : Jsur = 0.44936590268147686, J01 = 0.3356\n",
      "it 512 : Jsur = 0.44736051888061495, J01 = 0.3356\n",
      "it 2 : Jsur = 0.5040507690780197, J01 = 0.6644\n",
      "it 4 : Jsur = 0.5039957999531752, J01 = 0.6644\n",
      "it 8 : Jsur = 0.5038765308228118, J01 = 0.6644\n",
      "it 16 : Jsur = 0.4968548822356952, J01 = 0.3356\n",
      "it 32 : Jsur = 0.48603239641151413, J01 = 0.3356\n",
      "it 64 : Jsur = 0.47384339407945975, J01 = 0.3356\n",
      "it 128 : Jsur = 0.4667665168347041, J01 = 0.3356\n",
      "it 256 : Jsur = 0.4549017237720875, J01 = 0.3356\n",
      "it 512 : Jsur = 0.45176747204450185, J01 = 0.3356\n",
      "it 2 : Jsur = 0.49975410905778245, J01 = 0.3356\n",
      "it 4 : Jsur = 0.49607238906672785, J01 = 0.3356\n",
      "it 8 : Jsur = 0.4926992962506972, J01 = 0.3356\n",
      "it 16 : Jsur = 0.48686138806423057, J01 = 0.3356\n",
      "it 32 : Jsur = 0.4824439667436916, J01 = 0.3356\n",
      "it 64 : Jsur = 0.4826707916952176, J01 = 0.3356\n",
      "it 128 : Jsur = 0.4794525924022668, J01 = 0.3356\n",
      "it 256 : Jsur = 0.46255127897673753, J01 = 0.3356\n",
      "it 512 : Jsur = 0.45278642889743786, J01 = 0.3356\n",
      "it 2 : Jsur = 0.5005062767818875, J01 = 0.6644\n",
      "it 4 : Jsur = 0.5043417359414906, J01 = 0.6644\n",
      "it 8 : Jsur = 0.5042736424921458, J01 = 0.6644\n",
      "it 16 : Jsur = 0.5005868150533188, J01 = 0.6644\n",
      "it 32 : Jsur = 0.4919927005698546, J01 = 0.3356\n",
      "it 64 : Jsur = 0.48871481924898946, J01 = 0.3356\n",
      "it 128 : Jsur = 0.48338118934686, J01 = 0.3356\n",
      "it 256 : Jsur = 0.468186774455638, J01 = 0.3356\n",
      "it 512 : Jsur = 0.4557565185478048, J01 = 0.3356\n",
      "it 2 : Jsur = 0.5000070738862631, J01 = 0.6644\n",
      "it 4 : Jsur = 0.49999940763217865, J01 = 0.3356\n",
      "it 8 : Jsur = 0.4964351688767167, J01 = 0.3356\n",
      "it 16 : Jsur = 0.4901637047656648, J01 = 0.3356\n",
      "it 32 : Jsur = 0.4758505049243059, J01 = 0.3356\n",
      "it 64 : Jsur = 0.4664579971790863, J01 = 0.3356\n",
      "it 128 : Jsur = 0.46310437845456137, J01 = 0.3356\n",
      "it 256 : Jsur = 0.45854587282939135, J01 = 0.3356\n",
      "it 512 : Jsur = 0.45483931930162036, J01 = 0.3356\n",
      "it 2 : Jsur = 0.5039636016029629, J01 = 0.6644\n",
      "it 4 : Jsur = 0.5039253838234655, J01 = 0.6644\n",
      "it 8 : Jsur = 0.5001325892453266, J01 = 0.6644\n",
      "it 16 : Jsur = 0.49354050159268753, J01 = 0.3356\n",
      "it 32 : Jsur = 0.4884761520548814, J01 = 0.3356\n",
      "it 64 : Jsur = 0.4815653580725557, J01 = 0.3356\n",
      "it 128 : Jsur = 0.46535605599206353, J01 = 0.3356\n",
      "it 256 : Jsur = 0.4621749072354223, J01 = 0.3356\n",
      "it 512 : Jsur = 0.45220731761168115, J01 = 0.3356\n",
      "it 2 : Jsur = 0.5004954175918953, J01 = 0.6644\n",
      "it 4 : Jsur = 0.50049736602418, J01 = 0.6644\n",
      "it 8 : Jsur = 0.49692006962774704, J01 = 0.3356\n",
      "it 16 : Jsur = 0.49710717301016577, J01 = 0.3356\n",
      "it 32 : Jsur = 0.48892873473489634, J01 = 0.3356\n",
      "it 64 : Jsur = 0.4816254585636037, J01 = 0.3356\n",
      "it 128 : Jsur = 0.4730272062626411, J01 = 0.3356\n",
      "it 256 : Jsur = 0.45527963799025, J01 = 0.3356\n",
      "it 512 : Jsur = 0.4501382593677835, J01 = 0.3356\n",
      "it 2 : Jsur = 0.4960710709780167, J01 = 0.3356\n",
      "it 4 : Jsur = 0.4925607778513333, J01 = 0.3356\n",
      "it 8 : Jsur = 0.48621388717993624, J01 = 0.3356\n",
      "it 16 : Jsur = 0.48677647751376846, J01 = 0.3356\n",
      "it 32 : Jsur = 0.4826881702485437, J01 = 0.3356\n",
      "it 64 : Jsur = 0.4714886509319842, J01 = 0.3356\n",
      "it 128 : Jsur = 0.46719549271439975, J01 = 0.3356\n",
      "it 256 : Jsur = 0.453897369786068, J01 = 0.3356\n",
      "it 512 : Jsur = 0.4494652676729829, J01 = 0.3356\n",
      "it 2 : Jsur = 0.49668991137148244, J01 = 0.3356\n",
      "it 4 : Jsur = 0.5004355815534888, J01 = 0.6644\n",
      "it 8 : Jsur = 0.5004116364215366, J01 = 0.6644\n",
      "it 16 : Jsur = 0.493837756751694, J01 = 0.3356\n",
      "it 32 : Jsur = 0.49132536960994255, J01 = 0.3356\n",
      "it 64 : Jsur = 0.481795364136577, J01 = 0.3356\n",
      "it 128 : Jsur = 0.46718464962831274, J01 = 0.3356\n",
      "it 256 : Jsur = 0.45746784510927746, J01 = 0.3356\n",
      "it 512 : Jsur = 0.45121273462645567, J01 = 0.3356\n",
      "it 2 : Jsur = 0.499820760117801, J01 = 0.3356\n",
      "it 4 : Jsur = 0.4998303797166847, J01 = 0.3356\n",
      "it 8 : Jsur = 0.4962897293693144, J01 = 0.3356\n",
      "it 16 : Jsur = 0.48710148740447784, J01 = 0.3356\n",
      "it 32 : Jsur = 0.48044303058052285, J01 = 0.3356\n",
      "it 64 : Jsur = 0.475192050602441, J01 = 0.3356\n",
      "it 128 : Jsur = 0.46516476546063423, J01 = 0.3356\n"
     ]
    },
    {
     "name": "stdout",
     "output_type": "stream",
     "text": [
      "it 256 : Jsur = 0.457347432311133, J01 = 0.3356\n",
      "it 512 : Jsur = 0.4550742878114581, J01 = 0.3356\n",
      "it 2 : Jsur = 0.49654483840298924, J01 = 0.3356\n",
      "it 4 : Jsur = 0.5002873935553813, J01 = 0.6644\n",
      "it 8 : Jsur = 0.5003095881979968, J01 = 0.6644\n",
      "it 16 : Jsur = 0.5003464233917668, J01 = 0.6644\n",
      "it 32 : Jsur = 0.49441828537424454, J01 = 0.3356\n",
      "it 64 : Jsur = 0.47794562199397717, J01 = 0.3356\n",
      "it 128 : Jsur = 0.4650456685350899, J01 = 0.3356\n",
      "it 256 : Jsur = 0.4542745096158408, J01 = 0.3356\n",
      "it 512 : Jsur = 0.4509999410758519, J01 = 0.3356\n",
      "it 2 : Jsur = 0.5001679132276339, J01 = 0.6644\n",
      "it 4 : Jsur = 0.5001735917530754, J01 = 0.6644\n",
      "it 8 : Jsur = 0.5001554831363435, J01 = 0.6644\n",
      "it 16 : Jsur = 0.4935718436534677, J01 = 0.3356\n",
      "it 32 : Jsur = 0.483399407642799, J01 = 0.3356\n",
      "it 64 : Jsur = 0.4701048732797104, J01 = 0.3356\n",
      "it 128 : Jsur = 0.46499677395227973, J01 = 0.3356\n",
      "it 256 : Jsur = 0.45866481014317334, J01 = 0.3356\n",
      "it 512 : Jsur = 0.45453875128922755, J01 = 0.3356\n",
      "it 2 : Jsur = 0.4997740812122448, J01 = 0.3356\n",
      "it 4 : Jsur = 0.49609054370837946, J01 = 0.3356\n",
      "it 8 : Jsur = 0.49274200251566697, J01 = 0.3356\n",
      "it 16 : Jsur = 0.4898484486461182, J01 = 0.3356\n",
      "it 32 : Jsur = 0.4803272308050202, J01 = 0.3356\n",
      "it 64 : Jsur = 0.4768545549403421, J01 = 0.3356\n",
      "it 128 : Jsur = 0.46428533732997246, J01 = 0.3356\n",
      "it 256 : Jsur = 0.45805532039197044, J01 = 0.3356\n",
      "it 512 : Jsur = 0.4515206845249271, J01 = 0.3356\n",
      "it 2 : Jsur = 0.4998993071006771, J01 = 0.3356\n",
      "it 4 : Jsur = 0.4998928686733807, J01 = 0.3356\n",
      "it 8 : Jsur = 0.49633406555233395, J01 = 0.3356\n",
      "it 16 : Jsur = 0.49329962250981135, J01 = 0.3356\n",
      "it 32 : Jsur = 0.4881810880668385, J01 = 0.3356\n",
      "it 64 : Jsur = 0.4918673693371264, J01 = 0.3356\n",
      "it 128 : Jsur = 0.47003911964977485, J01 = 0.3356\n",
      "it 256 : Jsur = 0.45868585421115615, J01 = 0.3356\n",
      "it 512 : Jsur = 0.45276507612846234, J01 = 0.3356\n"
     ]
    }
   ],
   "source": [
    "# vary the number of hidden layers and the nodes in each layer\n",
    "# compute training and validation performance\n",
    "\n",
    "layers = range(1,8,1)\n",
    "nodes = range(1,10,1)\n",
    "\n",
    "tr_aucnn = np.zeros((len(layers),len(nodes)))\n",
    "va_aucnn = np.zeros((len(layers),len(nodes)))\n",
    "\n",
    "def varynn():\n",
    "    for i, layer in enumerate (layers):\n",
    "        for j, node in enumerate(nodes):\n",
    "            nn = ml.nnet.nnetClassify()\n",
    "            size = [XtS.shape[1]] + layer*[node]+[2]\n",
    "    # sizes = [Ninput, N1, N2, ... , Noutput], where Ninput = # of input features, and Nouput = # classes\n",
    "            nn.init_weights(size, 'random', XtS, Yt)\n",
    "            nn.train(XtS, Yt, stopTol= 1e-8, stepConstant=100, stopIter=300)\n",
    "            tr_aucnn[i][j] = nn.auc(XtS, Yt) \n",
    "            va_aucnn[i][j] = nn.auc(XvS, Yv)\n",
    "            \n",
    "    return tr_aucnn, va_aucnn\n",
    "\n",
    "tr_aucnn, va_aucnn = varynn()"
   ]
  },
  {
   "cell_type": "code",
   "execution_count": 114,
   "metadata": {},
   "outputs": [
    {
     "data": {
      "image/png": "[encoded data removed]",
      "text/plain": [
       "<Figure size 576x360 with 2 Axes>"
      ]
     },
     "metadata": {
      "needs_background": "light"
     },
     "output_type": "display_data"
    },
    {
     "data": {
      "image/png": "[encoded data removed]",
      "text/plain": [
       "<Figure size 576x360 with 2 Axes>"
      ]
     },
     "metadata": {
      "needs_background": "light"
     },
     "output_type": "display_data"
    }
   ],
   "source": [
    "# generate plot and reommand\n",
    "f, ax = plt.subplots(1,1,figsize=(8,5))\n",
    "cax_nn = ax.matshow(tr_aucnn, interpolation = 'nearest')\n",
    "f.colorbar(cax_nn)\n",
    "ax.set_xticklabels(['']+list(nodes))\n",
    "ax.set_yticklabels(['']+list(layers))\n",
    "ax.set_xlabel('nodes')\n",
    "ax.set_ylabel('layers')\n",
    "ax.set_title('training')\n",
    "plt.show()\n",
    "\n",
    "# generate plot and reommand\n",
    "f, ax = plt.subplots(1,1,figsize=(8,5))\n",
    "cax_nn = ax.matshow(va_aucnn, interpolation = 'nearest')\n",
    "f.colorbar(cax_nn)\n",
    "ax.set_xticklabels(['']+list(nodes))\n",
    "ax.set_yticklabels(['']+list(layers))\n",
    "ax.set_xlabel('nodes')\n",
    "ax.set_ylabel('layers')\n",
    "ax.set_title('validation')\n",
    "plt.show()\n"
   ]
  },
  {
   "cell_type": "markdown",
   "metadata": {},
   "source": [
    "I would recommand when layer = 1, and nodes = 7."
   ]
  },
  {
   "cell_type": "markdown",
   "metadata": {},
   "source": [
    "## Quesiont 2"
   ]
  },
  {
   "cell_type": "code",
   "execution_count": 28,
   "metadata": {},
   "outputs": [
    {
     "name": "stdout",
     "output_type": "stream",
     "text": [
      "it 2 : Jsur = 0.4967246149355784, J01 = 0.3356\n",
      "it 4 : Jsur = 0.49318337769628934, J01 = 0.3356\n",
      "it 8 : Jsur = 0.48998520937244366, J01 = 0.3356\n",
      "it 16 : Jsur = 0.4844426005699386, J01 = 0.3356\n",
      "it 32 : Jsur = 0.4757825752200119, J01 = 0.3356\n",
      "it 64 : Jsur = 0.4711782830601636, J01 = 0.3356\n",
      "it 128 : Jsur = 0.46198624221736045, J01 = 0.3356\n",
      "0.6051607049187739 0.6063825703325941\n"
     ]
    }
   ],
   "source": [
    "# implement a new activation function\n",
    "nn = ml.nnet.nnetClassify()\n",
    "def newact():\n",
    "    def sig(z): return np.atleast_2d(z)\n",
    "    def dsig(z): return np.atleast_2d(1)\n",
    "\n",
    "    size = [XtS.shape[1]] + [5] +[2]\n",
    "        # sizes = [Ninput, N1, N2, ... , Noutput], where Ninput = # of input features, and Nouput = # classes\n",
    "    nn.init_weights(size, 'random', XtS, Yt)\n",
    "    sig = lambda z: twod(np.maximum(0,z))\n",
    "    d_sig = lambda z: twod((z > 0) * 1 + (z <= 0) * 0)\n",
    "    nn.set_activation('custom',sig,d_sig)\n",
    "    nn.train(XtS, Yt, stopTol=1e-8, stepConstant=100, stopIter=100)\n",
    "    auc1 = nn.auc(XtS, Yt) \n",
    "    auc2 = nn.auc(XvS, Yv)\n",
    "    return auc1, auc2\n",
    "\n",
    "auc1, auc2 = newact()\n",
    "print(auc1, auc2)"
   ]
  },
  {
   "cell_type": "code",
   "execution_count": 29,
   "metadata": {},
   "outputs": [
    {
     "name": "stdout",
     "output_type": "stream",
     "text": [
      "it 2 : Jsur = 0.4963572244840792, J01 = 0.3356\n",
      "it 4 : Jsur = 0.4928320128258754, J01 = 0.3356\n",
      "it 8 : Jsur = 0.4896798774738582, J01 = 0.3356\n",
      "it 16 : Jsur = 0.48415804185950767, J01 = 0.3356\n",
      "it 32 : Jsur = 0.4827402198736352, J01 = 0.3356\n",
      "it 64 : Jsur = 0.4683414613813684, J01 = 0.3356\n",
      "it 128 : Jsur = 0.4565296582272242, J01 = 0.3356\n",
      "0.6209479333428533 0.6185340818152556\n"
     ]
    }
   ],
   "source": [
    "# implement logistic\n",
    "\n",
    "nn = ml.nnet.nnetClassify()\n",
    "def newact():\n",
    "    def sig(z): return np.atleast_2d(z)\n",
    "    def dsig(z): return np.atleast_2d(1)\n",
    "\n",
    "    size = [XtS.shape[1]] + [5] +[2]\n",
    "        # sizes = [Ninput, N1, N2, ... , Noutput], where Ninput = # of input features, and Nouput = # classes\n",
    "    nn.init_weights(size, 'random', XtS, Yt)\n",
    "    nn.set_activation('logistic',sig,d_sig)\n",
    "    nn.train(XtS, Yt, stopTol=1e-8, stepConstant=100, stopIter=100)\n",
    "    auc1 = nn.auc(XtS, Yt) \n",
    "    auc2 = nn.auc(XvS, Yv)\n",
    "    return auc1, auc2\n",
    "\n",
    "auc1, auc2 = newact()\n",
    "print(auc1, auc2)"
   ]
  },
  {
   "cell_type": "code",
   "execution_count": 30,
   "metadata": {},
   "outputs": [
    {
     "name": "stdout",
     "output_type": "stream",
     "text": [
      "it 2 : Jsur = 0.4963690801027276, J01 = 0.3356\n",
      "it 4 : Jsur = 0.5001060753137487, J01 = 0.6644\n",
      "it 8 : Jsur = 0.49652244134840723, J01 = 0.3356\n",
      "it 16 : Jsur = 0.4902651937763165, J01 = 0.3356\n",
      "it 32 : Jsur = 0.4854161989017182, J01 = 0.3356\n",
      "it 64 : Jsur = 0.4960823189056655, J01 = 0.3356\n",
      "it 128 : Jsur = 0.4808478354649199, J01 = 0.3356\n",
      "0.5632710811514812 0.5602983690693094\n"
     ]
    }
   ],
   "source": [
    "# implement htangent\n",
    "\n",
    "nn = ml.nnet.nnetClassify()\n",
    "def newact():\n",
    "    def sig(z): return np.atleast_2d(z)\n",
    "    def dsig(z): return np.atleast_2d(1)\n",
    "\n",
    "    size = [XtS.shape[1]] + [5] +[2]\n",
    "        # sizes = [Ninput, N1, N2, ... , Noutput], where Ninput = # of input features, and Nouput = # classes\n",
    "    nn.init_weights(size, 'random', XtS, Yt)\n",
    "    nn.set_activation('htangent',sig,d_sig)\n",
    "    nn.train(XtS, Yt, stopTol=1e-8, stepConstant=100, stopIter=100)\n",
    "    auc1 = nn.auc(XtS, Yt) \n",
    "    auc2 = nn.auc(XvS, Yv)\n",
    "    return auc1, auc2\n",
    "\n",
    "auc1, auc2 = newact()\n",
    "print(auc1, auc2)"
   ]
  },
  {
   "cell_type": "markdown",
   "metadata": {},
   "source": [
    "logistic activation function performs slightly better"
   ]
  },
  {
   "cell_type": "markdown",
   "metadata": {},
   "source": [
    "# Statement of Collaboration\n",
    "\n",
    "This is the Statement of Collaboration,meaning that I have followed the academic honesty guidelines and did not discussed this assignment with anyone. I referenced some answers from instructor and classmates on Piazza.\n",
    "\n",
    "Qinhua Sun"
   ]
  },
  {
   "cell_type": "code",
   "execution_count": null,
   "metadata": {},
   "outputs": [],
   "source": []
  },
  {
   "cell_type": "code",
   "execution_count": null,
   "metadata": {},
   "outputs": [],
   "source": []
  }
 ],
 "metadata": {
  "kernelspec": {
   "display_name": "Python 3",
   "language": "python",
   "name": "python3"
  },
  "language_info": {
   "codemirror_mode": {
    "name": "ipython",
    "version": 3
   },
   "file_extension": ".py",
   "mimetype": "text/x-python",
   "name": "python",
   "nbconvert_exporter": "python",
   "pygments_lexer": "ipython3",
   "version": "3.8.3"
  }
 },
 "nbformat": 4,
 "nbformat_minor": 4
}
