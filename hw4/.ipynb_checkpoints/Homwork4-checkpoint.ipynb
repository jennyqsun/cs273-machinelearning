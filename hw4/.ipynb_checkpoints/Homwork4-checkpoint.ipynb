{
 "cells": [
  {
   "cell_type": "markdown",
   "metadata": {},
   "source": [
    "# *Homework 4*\n",
    "# Problem 1: Setting up the data and Linear Classifier\n"
   ]
  },
  {
   "cell_type": "code",
   "execution_count": 2,
   "metadata": {},
   "outputs": [
    {
     "data": {
      "text/plain": [
       "(200000, 14)"
      ]
     },
     "execution_count": 2,
     "metadata": {},
     "output_type": "execute_result"
    }
   ],
   "source": [
    "import numpy as np\n",
    "import matplotlib.pyplot as plt\n",
    "import mltools as ml\n",
    "\n",
    "np.random.seed(1015)\n",
    "\n",
    "# Data Loading, split the data into traina nd validation data\n",
    "X = np.genfromtxt('data/X_train.txt', delimiter=None)\n",
    "Y = np.genfromtxt('data/Y_train.txt')\n",
    "X,Y = ml.shuffleData(X,Y)\n",
    "X.shape"
   ]
  },
  {
   "cell_type": "markdown",
   "metadata": {},
   "source": [
    "## Question 1 "
   ]
  },
  {
   "cell_type": "code",
   "execution_count": 3,
   "metadata": {},
   "outputs": [
    {
     "name": "stdout",
     "output_type": "stream",
     "text": [
      "minimum: [ 1.9350e+02  1.5250e+02  2.1425e+02  1.5250e+02  1.0000e+01  0.0000e+00\n",
      "  0.0000e+00  0.0000e+00  8.7589e-01  0.0000e+00  0.0000e+00  0.0000e+00\n",
      "  9.9049e-01 -9.9990e+02]\n",
      "maximum: [2.5300e+02 2.4900e+02 2.5250e+02 2.5250e+02 3.1048e+04 1.3630e+04\n",
      " 9.2380e+03 1.2517e+02 1.9167e+01 1.3230e+01 6.6761e+01 7.3902e+01\n",
      " 9.7504e+02 7.9720e+02]\n",
      "mean: [2.41601104e+02 2.27376571e+02 2.41554150e+02 2.32826768e+02\n",
      " 3.08992337e+03 9.28259020e+02 1.38093830e+02 3.24857933e+00\n",
      " 6.49865290e+00 2.09713912e+00 4.21766041e+00 2.69171845e+00\n",
      " 1.02715905e+01 5.78148050e+00]\n",
      "variance: [8.34991711e+01 9.26255931e+01 3.52863398e+01 9.76257317e+01\n",
      " 1.56515138e+07 3.08176182e+06 4.43951746e+05 8.21948502e+00\n",
      " 6.40504819e+00 4.36344047e+00 4.08637188e+00 2.19877847e+00\n",
      " 4.04646245e+02 3.40652055e+03]\n"
     ]
    }
   ],
   "source": [
    "print('minimum:', np.min(X,axis=0))\n",
    "print('maximum:', np.max(X,axis=0))\n",
    "print('mean:', np.mean(X,axis=0))\n",
    "print('variance:', np.var(X,axis=0))"
   ]
  },
  {
   "cell_type": "markdown",
   "metadata": {},
   "source": [
    "## Question 2\n",
    "\n"
   ]
  },
  {
   "cell_type": "code",
   "execution_count": 4,
   "metadata": {},
   "outputs": [
    {
     "name": "stdout",
     "output_type": "stream",
     "text": [
      "(5000, 14)\n",
      "(40000, 14)\n"
     ]
    }
   ],
   "source": [
    "Xtr, Xva, Ytr, Yva = ml.splitData(X,Y)\n",
    "Xt,Yt = Xtr[:5000], Ytr[:5000]   # subsample for efficiency \n",
    "XtS, params = ml.rescale(Xt)\n",
    "XvS, _  = ml.rescale(Xva, params)\n",
    "\n",
    "print(XtS.shape)\n",
    "print(XvS.shape)"
   ]
  },
  {
   "cell_type": "code",
   "execution_count": 5,
   "metadata": {},
   "outputs": [
    {
     "name": "stdout",
     "output_type": "stream",
     "text": [
      "minimum: [ -4.96595653  -3.72381682  -4.37149489  -2.66102087  -0.7523898\n",
      "  -0.52427348  -0.20823371  -1.1534788   -2.14016639  -1.00225435\n",
      "  -2.13223957  -1.84246917  -0.58771662 -19.46323418]\n",
      "maximum: [ 1.25737502  1.68713468  1.79941665  1.94475467  7.06595521  7.43475247\n",
      " 15.52027188  8.16587388  4.60231585  4.38870522  7.23989082 11.55664522\n",
      " 29.72711867 12.0454918 ]\n",
      "mean: [-1.91260008e-14  1.11883836e-15  1.33668632e-14  1.61768376e-14\n",
      " -1.65201186e-17  2.47801779e-17  3.86246590e-17 -2.20548024e-15\n",
      " -9.69215819e-15  3.60556029e-15  1.20001786e-15  4.90714136e-15\n",
      "  2.71693779e-16  1.35358391e-16]\n",
      "variance: [1. 1. 1. 1. 1. 1. 1. 1. 1. 1. 1. 1. 1. 1.]\n"
     ]
    }
   ],
   "source": [
    "# normalized training set\n",
    "print('minimum:', np.min(XtS,axis=0))\n",
    "print('maximum:', np.max(XtS,axis=0))\n",
    "print('mean:', np.mean(XtS,axis=0))\n",
    "print('variance:', np.var(XtS,axis=0))"
   ]
  },
  {
   "cell_type": "code",
   "execution_count": 6,
   "metadata": {},
   "outputs": [
    {
     "name": "stdout",
     "output_type": "stream",
     "text": [
      "minimum: [ -5.18821837  -3.93395086  -4.66835379  -2.77823675  -0.75289363\n",
      "  -0.52427348  -0.20823371  -1.1534788   -2.23026098  -1.00225435\n",
      "  -2.13223957  -1.84246917  -0.58968996 -19.46323418]\n",
      "maximum: [ 1.25737502  2.26500329  1.85742356  1.97911105  7.06595521  7.43475247\n",
      " 15.6889145   9.37169596  4.47106587  4.44186295  8.84160019 29.82606178\n",
      " 61.61283427 14.69104124]\n",
      "mean: [-0.00606725 -0.00829903 -0.01282366 -0.01128132  0.02532119  0.01904614\n",
      "  0.03112265 -0.01188227 -0.00071066  0.00280182 -0.02274993 -0.01159353\n",
      "  0.01136951 -0.02288047]\n",
      "variance: [1.0193737  1.02293341 1.0310364  0.99452865 1.00168114 1.04849157\n",
      " 1.32675477 0.98772854 1.00951961 1.00331393 1.0134529  1.02848094\n",
      " 1.87220677 1.39701562]\n"
     ]
    }
   ],
   "source": [
    "# normalized validation set\n",
    "print('minimum:', np.min(XvS,axis=0))\n",
    "print('maximum:', np.max(XvS,axis=0))\n",
    "print('mean:', np.mean(XvS,axis=0))\n",
    "print('variance:', np.var(XvS,axis=0))"
   ]
  },
  {
   "cell_type": "code",
   "execution_count": 7,
   "metadata": {},
   "outputs": [
    {
     "name": "stderr",
     "output_type": "stream",
     "text": [
      "/home/jenny/CS273A/hw4/mltools/base.py:97: RuntimeWarning: divide by zero encountered in log\n",
      "  return - np.mean( np.log( P[ np.arange(M), Y ] ) ) # evaluate\n"
     ]
    },
    {
     "data": {
      "text/plain": [
       "0.6487136717760529"
      ]
     },
     "execution_count": 7,
     "metadata": {},
     "output_type": "execute_result"
    }
   ],
   "source": [
    "learner = ml.linearC.linearClassify()\n",
    "learner.train(XtS, Yt, reg = 0.0, initStep = 0.5, stopTol = 1e-6, stopIter = 100)\n",
    "learner.auc(XtS, Yt)  # train AUC"
   ]
  },
  {
   "cell_type": "markdown",
   "metadata": {},
   "source": [
    "## Question 3\n"
   ]
  },
  {
   "cell_type": "code",
   "execution_count": 8,
   "metadata": {},
   "outputs": [
    {
     "name": "stdout",
     "output_type": "stream",
     "text": [
      "reg = 0.500000\n",
      "reg = 1.000000\n",
      "reg = 1.500000\n",
      "reg = 2.000000\n",
      "reg = 2.500000\n",
      "reg = 3.000000\n",
      "reg = 3.500000\n"
     ]
    },
    {
     "name": "stderr",
     "output_type": "stream",
     "text": [
      "/home/jenny/CS273A/hw4/mltools/linearC.py:122: RuntimeWarning: overflow encountered in exp\n",
      "  sigx  = np.exp(respi) / (1.0+np.exp(respi))\n",
      "/home/jenny/CS273A/hw4/mltools/linearC.py:122: RuntimeWarning: invalid value encountered in true_divide\n",
      "  sigx  = np.exp(respi) / (1.0+np.exp(respi))\n"
     ]
    },
    {
     "name": "stdout",
     "output_type": "stream",
     "text": [
      "reg = 4.000000\n",
      "reg = 4.500000\n",
      "reg = 5.000000\n",
      "reg = 5.500000\n",
      "reg = 6.000000\n",
      "reg = 6.500000\n",
      "reg = 7.000000\n",
      "reg = 7.500000\n",
      "reg = 8.000000\n",
      "reg = 8.500000\n",
      "reg = 9.000000\n",
      "reg = 9.500000\n",
      "[0.6158527790674229, 0.6085959245941565, 0.6050238271386121, 0.6026881145597056, 0.6010547303023367, 0.5995241389257444, 0.5980916761805395, 0.49744524709399324, 0.49744524709399324, 0.49744524709399324, 0.49744524709399324, 0.49744524709399324, 0.49744524709399324, 0.49744524709399324, 0.49744524709399324, 0.49744524709399324, 0.49744524709399324, 0.49744524709399324, 0.49744524709399324]\n",
      "[0.6098175597459962, 0.6028263172336871, 0.5994701708837697, 0.5973927032785866, 0.5958481170790451, 0.5944733953678523, 0.5931438914218169, 0.5006980438685366, 0.5006980438685366, 0.5006980438685366, 0.5006980438685366, 0.5006980438685366, 0.5006980438685366, 0.5006980438685366, 0.5006980438685366, 0.5006980438685366, 0.5006980438685366, 0.5006980438685366, 0.5006980438685366]\n"
     ]
    },
    {
     "data": {
      "text/plain": [
       "<matplotlib.legend.Legend at 0x7f4d0a01c610>"
      ]
     },
     "execution_count": 8,
     "metadata": {},
     "output_type": "execute_result"
    },
    {
     "data": {
      "image/png": "[encoded data removed]",
      "text/plain": [
       "<Figure size 432x288 with 1 Axes>"
      ]
     },
     "metadata": {
      "needs_background": "light"
     },
     "output_type": "display_data"
    }
   ],
   "source": [
    "# change the reg term and plot the training and val AUC\n",
    "\n",
    "auc_tr = []\n",
    "auc_val = []\n",
    "reg = np.arange(0.5,10,0.5)\n",
    "for r in reg:\n",
    "    learner = ml.linearC.linearClassify()\n",
    "    learner.train(XtS, Yt, reg = r, initStep = 0.5, stopTol = 1e-6, stopIter = 100)\n",
    "    auc_tr.append(learner.auc(XtS, Yt))\n",
    "    auc_val.append(learner.auc(XvS, Yva))\n",
    "    print('reg = %f'% r)\n",
    "    \n",
    "                   \n",
    "print(auc_tr)\n",
    "print(auc_val)\n",
    "\n",
    "# plot AUC against regularization weight\n",
    "\n",
    "plt.plot(reg, auc_tr, label = 'training AUC')\n",
    "plt.plot(reg, auc_val, label = 'validation AUC')\n",
    "plt.xlabel('regularization weight')\n",
    "plt.ylabel('AUC')\n",
    "plt.legend()\n",
    "\n"
   ]
  },
  {
   "cell_type": "code",
   "execution_count": null,
   "metadata": {},
   "outputs": [],
   "source": [
    "%qtconsole"
   ]
  },
  {
   "cell_type": "markdown",
   "metadata": {},
   "source": [
    "## Question 4"
   ]
  },
  {
   "cell_type": "code",
   "execution_count": 9,
   "metadata": {},
   "outputs": [
    {
     "name": "stdout",
     "output_type": "stream",
     "text": [
      "(5000, 119)\n",
      "(40000, 119)\n"
     ]
    }
   ],
   "source": [
    "# add degree 2 polynomial features on training and val set\n",
    "Xtpoly = ml.transforms.fpoly(Xt, 2, bias=False)\n",
    "Xvpoly = ml.transforms.fpoly(Xva, 2, bias= False)\n",
    "\n",
    "# now sclae the degree2 training set\n",
    "XtSpoly, params = ml.rescale(Xtpoly)\n",
    "\n",
    "# now use the params to scla the val set\n",
    "XvSpoly, _ = ml.rescale(Xvpoly,params)\n",
    "\n",
    "\n",
    "\n",
    "print(XtSpoly.shape)\n",
    "print(XvSpoly.shape)"
   ]
  },
  {
   "cell_type": "markdown",
   "metadata": {},
   "source": [
    "The reasons that we have 119 features is becuase 12 have 14 original features, 14 $x_i^2$ features, and the combination of any of the 14 features $\\frac{14!}{2!\\times 12!}$ = 91. 14+14+91 = 119."
   ]
  },
  {
   "cell_type": "markdown",
   "metadata": {},
   "source": [
    "## Question 5"
   ]
  },
  {
   "cell_type": "code",
   "execution_count": null,
   "metadata": {},
   "outputs": [
    {
     "name": "stderr",
     "output_type": "stream",
     "text": [
      "/home/jenny/CS273A/hw4/mltools/base.py:97: RuntimeWarning: divide by zero encountered in log\n",
      "  return - np.mean( np.log( P[ np.arange(M), Y ] ) ) # evaluate\n",
      "/home/jenny/CS273A/hw4/mltools/linearC.py:134: RuntimeWarning: invalid value encountered in double_scalars\n",
      "  done = (it > stopIter) or ( (it>1) and (abs(Jsur[-1]-Jsur[-2])<stopTol) )\n"
     ]
    }
   ],
   "source": [
    "# reuse the code in Question3, and look at the AUC for the transformed data\n",
    "\n",
    "auc_trpoly = []\n",
    "auc_valpoly = []\n",
    "reg = np.arange(0.5,10,0.5)\n",
    "for r in reg:\n",
    "    learner = ml.linearC.linearClassify()\n",
    "    learner.train(XtSpoly, Yt, reg = r, initStep = 0.5, stopTol = 1e-6, stopIter = 100)\n",
    "    auc_trpoly.append(learner.auc(XtSpoly, Yt))\n",
    "    auc_valpoly.append(learner.auc(XvSpoly, Yva))\n",
    "    print('reg = %f'% r)\n",
    "    \n",
    "                   \n",
    "print(auc_trpoly)\n",
    "print(auc_valpoly)\n",
    "\n",
    "# plot AUC against regularization weight\n",
    "\n",
    "plt.plot(reg, auc_trpoly, label = 'training polynomial AUC')\n",
    "plt.plot(reg, auc_valpoly, label = 'validation polynomial AUC')\n",
    "plt.xlabel('regularization weight')\n",
    "plt.ylabel('AUC')\n",
    "plt.legend()"
   ]
  },
  {
   "cell_type": "markdown",
   "metadata": {},
   "source": [
    "# Problem 2 Nearest Neighbors"
   ]
  },
  {
   "cell_type": "code",
   "execution_count": 174,
   "metadata": {},
   "outputs": [
    {
     "data": {
      "text/plain": [
       "0.9958192179991231"
      ]
     },
     "execution_count": 174,
     "metadata": {},
     "output_type": "execute_result"
    }
   ],
   "source": [
    "learner = ml.knn.knnClassify()\n",
    "learner.train(XtS, Yt, K=1, alpha = 0.0)\n",
    "learner.auc(XtS, Yt) # train AUC"
   ]
  },
  {
   "cell_type": "markdown",
   "metadata": {},
   "source": [
    "## Question 1"
   ]
  },
  {
   "cell_type": "code",
   "execution_count": 176,
   "metadata": {},
   "outputs": [
    {
     "name": "stderr",
     "output_type": "stream",
     "text": [
      "/home/jenny/CS273A/hw4/mltools/knn.py:103: RuntimeWarning: invalid value encountered in true_divide\n",
      "  prob[i,:] = count / count.sum()    # save (soft) results\n"
     ]
    },
    {
     "name": "stdout",
     "output_type": "stream",
     "text": [
      "k=%d 0\n",
      "k=%d 1\n",
      "k=%d 2\n",
      "k=%d 3\n",
      "k=%d 4\n",
      "k=%d 5\n",
      "k=%d 6\n",
      "k=%d 7\n",
      "k=%d 8\n",
      "k=%d 9\n"
     ]
    }
   ],
   "source": [
    "# plot the training and validation performance for a range of K, with alpha = 0\n",
    "\n",
    "K = np.arange(1,10,1)\n",
    "knn_train=[]\n",
    "knn_val = []\n",
    "\n",
    "for i in K:\n",
    "    learner = ml.knn.knnClassify()\n",
    "    learner.train(XtS, Yt, K=i, alpha=0)\n",
    "    knn_train.append(learner.auc(XtS,Yt))\n",
    "    knn_val.append(learner.auc(XvS, Yva))\n",
    "    print('k=%d'%i)\n"
   ]
  },
  {
   "cell_type": "code",
   "execution_count": 178,
   "metadata": {},
   "outputs": [
    {
     "data": {
      "text/plain": [
       "<matplotlib.legend.Legend at 0x7f0b0223ddc0>"
      ]
     },
     "execution_count": 178,
     "metadata": {},
     "output_type": "execute_result"
    },
    {
     "data": {
      "image/png": "[encoded data removed]",
      "text/plain": [
       "<Figure size 432x288 with 1 Axes>"
      ]
     },
     "metadata": {
      "needs_background": "light"
     },
     "output_type": "display_data"
    }
   ],
   "source": [
    "plt.plot(K, knn_train, label = 'training')\n",
    "plt.plot(K, knn_val, label = 'validation')\n",
    "plt.xlabel('Size of Neighborhood K')\n",
    "plt.ylabel('AUC')\n",
    "plt.legend()"
   ]
  },
  {
   "cell_type": "markdown",
   "metadata": {},
   "source": [
    "## Question 2"
   ]
  },
  {
   "cell_type": "code",
   "execution_count": null,
   "metadata": {},
   "outputs": [],
   "source": [
    "# same with unscaled data\n",
    "# plot the training and validation performance for a range of K, with alpha = 0\n",
    "\n",
    "K = np.arange(1,10,1)\n",
    "knn_trainO=[]\n",
    "knn_valO = []\n",
    "\n",
    "for i in K:\n",
    "    learner = ml.knn.knnClassify()\n",
    "    learner.train(Xt, Yt, K=i, alpha=0)\n",
    "    knn_trainO.append(learner.auc(Xt,Yt))\n",
    "    knn_valO.append(learner.auc(Xva, Yva))\n",
    "    print('k=%d'%i)\n",
    "\n",
    "plt.plot(K, knn_trainO, label = 'training')\n",
    "plt.plot(K, knn_valO, label = 'validation')\n",
    "plt.xlabel('Size of Neighborhood K')\n",
    "plt.ylabel('AUC')\n",
    "plt.legend()\n",
    "plt.title('Unscaled Data')"
   ]
  },
  {
   "cell_type": "markdown",
   "metadata": {},
   "source": [
    "## Question 3"
   ]
  },
  {
   "cell_type": "code",
   "execution_count": 190,
   "metadata": {},
   "outputs": [
    {
     "name": "stdout",
     "output_type": "stream",
     "text": [
      "k=1 alpha=0\n"
     ]
    },
    {
     "name": "stderr",
     "output_type": "stream",
     "text": [
      "/home/jenny/CS273A/hw4/mltools/knn.py:103: RuntimeWarning: invalid value encountered in true_divide\n",
      "  prob[i,:] = count / count.sum()    # save (soft) results\n"
     ]
    },
    {
     "name": "stdout",
     "output_type": "stream",
     "text": [
      "k=1 alpha=1\n"
     ]
    }
   ],
   "source": [
    "# plot AUC 2D varying k and alpha\n",
    "\n",
    "K = range(1,2,1)\n",
    "A = range(0,2,1)\n",
    "tr_auc = np.zeros((len(K), len(A)))\n",
    "va_auc = np.zeros((len(K), len(A)))\n",
    "for i, k in enumerate(K):\n",
    "    for j, a in enumerate(A):\n",
    "        learner.train(Xt, Yt, K=k, alpha=a)\n",
    "        tr_auc[i][j] = learner.auc(XtS, Yt)\n",
    "        va_auc[i][j] = learner.auc(XvS, Yva)\n",
    "        print('k=%d'%k,'alpha=%d'%a)\n",
    "\n"
   ]
  },
  {
   "cell_type": "code",
   "execution_count": 184,
   "metadata": {},
   "outputs": [
    {
     "data": {
      "text/plain": [
       "<matplotlib.colorbar.Colorbar at 0x7f0b020b4400>"
      ]
     },
     "execution_count": 184,
     "metadata": {},
     "output_type": "execute_result"
    },
    {
     "data": {
      "image/png": "[encoded data removed]",
      "text/plain": [
       "<Figure size 576x360 with 2 Axes>"
      ]
     },
     "metadata": {
      "needs_background": "light"
     },
     "output_type": "display_data"
    }
   ],
   "source": [
    "# make the plot\n",
    "f, ax = plt.subplots(1,1,figsize=(8,5))\n",
    "cax = ax.matshow(tr_auc, interpolation = 'nearest')\n",
    "f.colorbar(cax)\n",
    "# ax.set_xticklabels(['']+K)\n",
    "# ax.set_yticklabels(['']+A)\n",
    "# ax.set_xlabel('size of neighborhood, K')\n",
    "# ax.set_ylabel('how much weight for closer points')\n",
    "# plt.show()\n",
    "# plt.title('Training')"
   ]
  },
  {
   "cell_type": "code",
   "execution_count": null,
   "metadata": {},
   "outputs": [],
   "source": [
    "f, ax = plt.subplots(1,1,figsize=(8,5))\n",
    "cax = ax.matshow(va_auc, interpolation = 'nearest')\n",
    "f.colorbar(cax)\n",
    "ax.set_xticklabels(['']+K)\n",
    "ax.set_yticklabels(['']+A)\n",
    "ax.set_xlabel('size of neighborhood, K')\n",
    "ax.set_ylabel('how much weight for closer points')\n",
    "plt.show()\n",
    "plt.title('Validation')"
   ]
  },
  {
   "cell_type": "markdown",
   "metadata": {},
   "source": [
    "# Problem 3: Decision Trees"
   ]
  },
  {
   "cell_type": "markdown",
   "metadata": {},
   "source": [
    "## Question 1"
   ]
  },
  {
   "cell_type": "code",
   "execution_count": null,
   "metadata": {},
   "outputs": [],
   "source": [
    "learner = ml.dtree.treeClassify(Xt, Yt, maxDepth=15)\n",
    "\n",
    "# vary maxDepth\n",
    "\n",
    "Depth = np.arange(5,30,5)\n",
    "tr_aucDT = []\n",
    "va_aucDT = []\n",
    "\n",
    "for d in Depth:\n",
    "    learner = ml.dtree.treeClassify()\n",
    "    tr_aucDT.append(learner.auc(XtS, Yt))\n",
    "    va_aucDT.append(learner.auc(XvS, Yva))\n",
    "    print('Depth = %d'% d)\n",
    "\n",
    "plt.plot(Depth, tr_aucDT, label = 'training')\n",
    "plt.plot(Depth, va_aucDT, label = 'validation')\n",
    "plt.xlabel('MaxDepth')\n",
    "plt.ylabel('AUC')\n",
    "plt.legend()\n"
   ]
  },
  {
   "cell_type": "markdown",
   "metadata": {},
   "source": [
    "## Question 2"
   ]
  },
  {
   "cell_type": "code",
   "execution_count": null,
   "metadata": {},
   "outputs": [],
   "source": [
    "# plot the number of nodes in the tree as MaxDepth is varied\n",
    "Depth = np.arange(5,30,5)\n",
    "minParent =\n",
    "\n"
   ]
  },
  {
   "cell_type": "code",
   "execution_count": null,
   "metadata": {},
   "outputs": [],
   "source": []
  },
  {
   "cell_type": "markdown",
   "metadata": {},
   "source": [
    "# Problem 4: Neural Networks and Conclusion"
   ]
  }
 ],
 "metadata": {
  "kernelspec": {
   "display_name": "Python 3",
   "language": "python",
   "name": "python3"
  },
  "language_info": {
   "codemirror_mode": {
    "name": "ipython",
    "version": 3
   },
   "file_extension": ".py",
   "mimetype": "text/x-python",
   "name": "python",
   "nbconvert_exporter": "python",
   "pygments_lexer": "ipython3",
   "version": "3.8.3"
  }
 },
 "nbformat": 4,
 "nbformat_minor": 4
}
